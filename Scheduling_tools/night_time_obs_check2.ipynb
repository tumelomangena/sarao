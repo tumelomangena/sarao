{
 "cells": [
  {
   "cell_type": "code",
   "execution_count": 2,
   "metadata": {},
   "outputs": [
    {
     "name": "stdout",
     "output_type": "stream",
     "text": [
      "Requirement already satisfied: katpoint in /Users/tumelomangena/.pyenv/versions/3.10.13/lib/python3.10/site-packages (0.10.1)\n",
      "Requirement already satisfied: ephem in /Users/tumelomangena/.pyenv/versions/3.10.13/lib/python3.10/site-packages (from katpoint) (4.1.5)\n",
      "Requirement already satisfied: numpy in /Users/tumelomangena/.pyenv/versions/3.10.13/lib/python3.10/site-packages (from katpoint) (1.24.2)\n",
      "Requirement already satisfied: future in /Users/tumelomangena/.pyenv/versions/3.10.13/lib/python3.10/site-packages (from katpoint) (1.0.0)\n",
      "\n",
      "\u001b[1m[\u001b[0m\u001b[34;49mnotice\u001b[0m\u001b[1;39;49m]\u001b[0m\u001b[39;49m A new release of pip is available: \u001b[0m\u001b[31;49m23.0.1\u001b[0m\u001b[39;49m -> \u001b[0m\u001b[32;49m24.1.1\u001b[0m\n",
      "\u001b[1m[\u001b[0m\u001b[34;49mnotice\u001b[0m\u001b[1;39;49m]\u001b[0m\u001b[39;49m To update, run: \u001b[0m\u001b[32;49mpip install --upgrade pip\u001b[0m\n"
     ]
    }
   ],
   "source": [
    "!pip install katpoint"
   ]
  },
  {
   "cell_type": "code",
   "execution_count": 3,
   "metadata": {
    "scrolled": true
   },
   "outputs": [
    {
     "ename": "ModuleNotFoundError",
     "evalue": "No module named 'katpoint'",
     "output_type": "error",
     "traceback": [
      "\u001b[0;31m---------------------------------------------------------------------------\u001b[0m",
      "\u001b[0;31mModuleNotFoundError\u001b[0m                       Traceback (most recent call last)",
      "Cell \u001b[0;32mIn[3], line 5\u001b[0m\n\u001b[1;32m      3\u001b[0m \u001b[38;5;28;01mimport\u001b[39;00m \u001b[38;5;21;01mdatetime\u001b[39;00m \u001b[38;5;28;01mas\u001b[39;00m \u001b[38;5;21;01mdt\u001b[39;00m\n\u001b[1;32m      4\u001b[0m \u001b[38;5;66;03m#import datetime\u001b[39;00m\n\u001b[0;32m----> 5\u001b[0m \u001b[38;5;28;01mimport\u001b[39;00m \u001b[38;5;21;01mkatpoint\u001b[39;00m\n\u001b[1;32m      6\u001b[0m \u001b[38;5;28;01mimport\u001b[39;00m \u001b[38;5;21;01mnumpy\u001b[39;00m \u001b[38;5;28;01mas\u001b[39;00m \u001b[38;5;21;01mnp\u001b[39;00m\n\u001b[1;32m      7\u001b[0m \u001b[38;5;28;01mimport\u001b[39;00m \u001b[38;5;21;01mtime\u001b[39;00m \u001b[38;5;28;01mas\u001b[39;00m \u001b[38;5;21;01mtime\u001b[39;00m\n",
      "\u001b[0;31mModuleNotFoundError\u001b[0m: No module named 'katpoint'"
     ]
    }
   ],
   "source": [
    "import matplotlib.pyplot as plt\n",
    "import matplotlib.dates as mdates\n",
    "import datetime as dt\n",
    "#import datetime\n",
    "import katpoint\n",
    "import numpy as np\n",
    "import time as time\n",
    "import pandas as pd\n",
    "import math\n",
    "import colorama\n",
    "from colorama import Fore\n",
    "import pytest\n",
    "from datetime import date "
   ]
  },
  {
   "cell_type": "markdown",
   "metadata": {},
   "source": [
    "We compute the rise and set time of the Sun for the given timestamps. This helps us to define the day and the night time. For the purpose of this script we are only interested in identifying the night time for every timestamps. We plot the LST against the date to show the rise and set of the Sun."
   ]
  },
  {
   "cell_type": "code",
   "execution_count": 46,
   "metadata": {
    "scrolled": true
   },
   "outputs": [],
   "source": [
    "\n",
    "def rise_set(timestamp):\n",
    "    site = katpoint.Antenna(\"m000, -30:42:39.8, 21:26:38.0, 1086.6, 13.5\") # the site position using one antenna(m000)\n",
    "    site.observer.date=katpoint.Timestamp(timestamp).to_ephem_date() # Set time\n",
    "    site.observer.horizon='00:00:00.0' # Set horizon\n",
    "    observer = site.observer \n",
    "    Sun = katpoint.Target(\"Sun,special\")# Make sun object\n",
    "    ephem_sun = Sun.body #Sun as an object\n",
    "    ephem_sun.compute(observer) #compute for position of the observer\n",
    "    return observer.next_rising(ephem_sun),observer.next_setting(ephem_sun)\n"
   ]
  },
  {
   "cell_type": "markdown",
   "metadata": {},
   "source": [
    "    "
   ]
  },
  {
   "cell_type": "code",
   "execution_count": 48,
   "metadata": {},
   "outputs": [
    {
     "name": "stdout",
     "output_type": "stream",
     "text": [
      "1\n"
     ]
    }
   ],
   "source": [
    "\n",
    "start_date = \"2023-10-01\"\n",
    "end_date = \"2023-11-01\"\n",
    "date_start = dt.datetime.strptime(start_date, '%Y-%m-%d')\n",
    "date_end = dt.datetime.strptime(end_date, '%Y-%m-%d')\n",
    "\n",
    "d = (date_end.day - date_start.day)\n",
    "date1 = date(date_start.year, date_start.month, date_start.day)\n",
    "date2 = date(date_end.year, date_end.month, date_end.day)\n",
    "delta = date2 - date1\n",
    "print(date1.day)"
   ]
  },
  {
   "cell_type": "code",
   "execution_count": 57,
   "metadata": {},
   "outputs": [],
   "source": [
    "def sun_set_rise(start_date, end_date):\n",
    "    \n",
    "    date_start = dt.datetime.strptime(start_date, '%Y-%m-%d')\n",
    "    date_end = dt.datetime.strptime(end_date, '%Y-%m-%d')\n",
    "\n",
    "    date1 = date(date_start.year, date_start.month, date_start.day)\n",
    "    date2 = date(date_end.year, date_end.month, date_end.day)\n",
    "    delta = date2 - date1\n",
    "    days = delta.days\n",
    "    \n",
    "    settime, risetime = np.zeros((days,1)),np.zeros((days,1))\n",
    "    site = katpoint.Antenna(\"m000, -30:42:39.8, 21:26:38.0, 1086.6, 13.5\")\n",
    "    S = []\n",
    "    R = []\n",
    "    D = []\n",
    "    for day in range(date1.day, date2.day):\n",
    "        time_ = dt.datetime(date_start.year, date_start.month, day)\n",
    "        t = dt.datetime.timestamp(time_)\n",
    "        if day == 1:\n",
    "            timestamp = t\n",
    "        else:\n",
    "            timestamp = t + 24*60*60*day\n",
    "        rise_time, set_time = rise_set(timestamp)\n",
    "        risetime[day] = np.degrees(site.local_sidereal_time(rise_time))/15.\n",
    "        settime[day] = np.degrees(site.local_sidereal_time(set_time))/15.\n",
    "        S.append(settime[day])\n",
    "        R.append(risetime[day])\n",
    "        D.append(time_)\n",
    "        \n",
    "    calender = [{\"date\": D,\n",
    "        \"lst_sunrise\":R,\n",
    "        \"lst_sunset\": S}\n",
    "               ]\n",
    "        \n",
    "    return calender"
   ]
  },
  {
   "cell_type": "code",
   "execution_count": 58,
   "metadata": {},
   "outputs": [
    {
     "ename": "IndexError",
     "evalue": "index 26 is out of bounds for axis 0 with size 5",
     "output_type": "error",
     "traceback": [
      "\u001b[0;31m---------------------------------------------------------------------------\u001b[0m",
      "\u001b[0;31mIndexError\u001b[0m                                Traceback (most recent call last)",
      "\u001b[0;32m<ipython-input-58-2e7f1cd01748>\u001b[0m in \u001b[0;36m<module>\u001b[0;34m\u001b[0m\n\u001b[1;32m      2\u001b[0m \u001b[0mend_date\u001b[0m \u001b[0;34m=\u001b[0m \u001b[0;34m\"2023-10-30\"\u001b[0m\u001b[0;34m\u001b[0m\u001b[0;34m\u001b[0m\u001b[0m\n\u001b[1;32m      3\u001b[0m \u001b[0;34m\u001b[0m\u001b[0m\n\u001b[0;32m----> 4\u001b[0;31m \u001b[0ms\u001b[0m \u001b[0;34m=\u001b[0m \u001b[0msun_set_rise\u001b[0m\u001b[0;34m(\u001b[0m\u001b[0mstart_date\u001b[0m\u001b[0;34m,\u001b[0m \u001b[0mend_date\u001b[0m\u001b[0;34m)\u001b[0m\u001b[0;34m\u001b[0m\u001b[0;34m\u001b[0m\u001b[0m\n\u001b[0m",
      "\u001b[0;32m<ipython-input-57-62a2ade81cfc>\u001b[0m in \u001b[0;36msun_set_rise\u001b[0;34m(start_date, end_date)\u001b[0m\n\u001b[1;32m     22\u001b[0m             \u001b[0mtimestamp\u001b[0m \u001b[0;34m=\u001b[0m \u001b[0mt\u001b[0m \u001b[0;34m+\u001b[0m \u001b[0;36m24\u001b[0m\u001b[0;34m*\u001b[0m\u001b[0;36m60\u001b[0m\u001b[0;34m*\u001b[0m\u001b[0;36m60\u001b[0m\u001b[0;34m*\u001b[0m\u001b[0mday\u001b[0m\u001b[0;34m\u001b[0m\u001b[0;34m\u001b[0m\u001b[0m\n\u001b[1;32m     23\u001b[0m         \u001b[0mrise_time\u001b[0m\u001b[0;34m,\u001b[0m \u001b[0mset_time\u001b[0m \u001b[0;34m=\u001b[0m \u001b[0mrise_set\u001b[0m\u001b[0;34m(\u001b[0m\u001b[0mtimestamp\u001b[0m\u001b[0;34m)\u001b[0m\u001b[0;34m\u001b[0m\u001b[0;34m\u001b[0m\u001b[0m\n\u001b[0;32m---> 24\u001b[0;31m         \u001b[0mrisetime\u001b[0m\u001b[0;34m[\u001b[0m\u001b[0mday\u001b[0m\u001b[0;34m]\u001b[0m \u001b[0;34m=\u001b[0m \u001b[0mnp\u001b[0m\u001b[0;34m.\u001b[0m\u001b[0mdegrees\u001b[0m\u001b[0;34m(\u001b[0m\u001b[0msite\u001b[0m\u001b[0;34m.\u001b[0m\u001b[0mlocal_sidereal_time\u001b[0m\u001b[0;34m(\u001b[0m\u001b[0mrise_time\u001b[0m\u001b[0;34m)\u001b[0m\u001b[0;34m)\u001b[0m\u001b[0;34m/\u001b[0m\u001b[0;36m15.\u001b[0m\u001b[0;34m\u001b[0m\u001b[0;34m\u001b[0m\u001b[0m\n\u001b[0m\u001b[1;32m     25\u001b[0m         \u001b[0msettime\u001b[0m\u001b[0;34m[\u001b[0m\u001b[0mday\u001b[0m\u001b[0;34m]\u001b[0m \u001b[0;34m=\u001b[0m \u001b[0mnp\u001b[0m\u001b[0;34m.\u001b[0m\u001b[0mdegrees\u001b[0m\u001b[0;34m(\u001b[0m\u001b[0msite\u001b[0m\u001b[0;34m.\u001b[0m\u001b[0mlocal_sidereal_time\u001b[0m\u001b[0;34m(\u001b[0m\u001b[0mset_time\u001b[0m\u001b[0;34m)\u001b[0m\u001b[0;34m)\u001b[0m\u001b[0;34m/\u001b[0m\u001b[0;36m15.\u001b[0m\u001b[0;34m\u001b[0m\u001b[0;34m\u001b[0m\u001b[0m\n\u001b[1;32m     26\u001b[0m         \u001b[0mS\u001b[0m\u001b[0;34m.\u001b[0m\u001b[0mappend\u001b[0m\u001b[0;34m(\u001b[0m\u001b[0msettime\u001b[0m\u001b[0;34m[\u001b[0m\u001b[0mday\u001b[0m\u001b[0;34m]\u001b[0m\u001b[0;34m)\u001b[0m\u001b[0;34m\u001b[0m\u001b[0;34m\u001b[0m\u001b[0m\n",
      "\u001b[0;31mIndexError\u001b[0m: index 26 is out of bounds for axis 0 with size 5"
     ]
    }
   ],
   "source": [
    "start_date = \"2024-01-01\"\n",
    "end_date = \"2024-12-31\"\n",
    "\n",
    "s = sun_set_rise(start_date, end_date)"
   ]
  },
  {
   "cell_type": "code",
   "execution_count": 56,
   "metadata": {},
   "outputs": [
    {
     "data": {
      "text/plain": [
       "[{'date': [], 'lst_sunrise': [], 'lst_sunset': []}]"
      ]
     },
     "execution_count": 56,
     "metadata": {},
     "output_type": "execute_result"
    }
   ],
   "source": [
    "s"
   ]
  },
  {
   "cell_type": "markdown",
   "metadata": {},
   "source": [
    "## def get_date(start, end):\n",
    "    start = datetime(2023,1,1)\n",
    "    end = datetime(2023,2,1)\n",
    "\n",
    "    calendar = [\n",
    "    {\n",
    "        \"dt\": start + timedelta(days=d),\n",
    "        \"lst_start\": \"calc this\",\n",
    "        \"lst_end\": \"calc this\"\n",
    "    }\n",
    "    for d in range(0, (end - start).days + 1)\n",
    "]"
   ]
  },
  {
   "cell_type": "code",
   "execution_count": 114,
   "metadata": {},
   "outputs": [],
   "source": [
    "   "
   ]
  },
  {
   "cell_type": "markdown",
   "metadata": {},
   "source": [
    "function sun_set_rise(year, month, days)\n",
    "    \n",
    "    \"\"\"\n",
    "    Calculate sunrise and sunset times for a given location and date range.\n",
    "\n",
    "    Parameters:\n",
    "    -------------\n",
    "    year : int\n",
    "        The year for which you want to calculate sunrise and sunset times.\n",
    "    month : int\n",
    "        The month for which you want to calculate sunrise and sunset times.\n",
    "    days : int\n",
    "        The number of days for which you want to calculate sunrise and sunset times.\n",
    "\n",
    "    Returns:\n",
    "    -------------\n",
    "    settime : 2D array of (Timestamp, LST) pairs\n",
    "        A 2D array of sunset times and their corresponding Local Sidereal Time (LST).\n",
    "    risetime : 2D array of (Timestamp, LST) pairs\n",
    "        A 2D array of sunrise times and their corresponding Local Sidereal Time (LST).\n",
    "    \"\"\"\n",
    "    \n",
    "    # Initialize 2D arrays to store sunset and sunrise times\n",
    "    settime = create_empty_array(days, 2)\n",
    "    risetime = create_empty_array(days, 2)\n",
    "    \n",
    "    # Define the location of the observation site (e.g., latitude, longitude, altitude)\n",
    "    site_location = [latitude, longitude, altitude]\n",
    "    \n",
    "    # Iterate through a range of days\n",
    "    for day in range(1, days):\n",
    "        # Create a datetime object for the current day\n",
    "        current_date = create_datetime(year, month, day)\n",
    "        \n",
    "        # Calculate the timestamp for the current date\n",
    "        timestamp = calculate_timestamp(current_date, day)\n",
    "        \n",
    "        # Calculate the sunrise and sunset times for the current date and location\n",
    "        rise_time, set_time = calculate_sunrise_sunset(timestamp, site_location)\n",
    "        \n",
    "        # Convert the times to Timestamp objects and calculate Local Sidereal Time (LST)\n",
    "        risetime[day] = (create_timestamp(rise_time), calculate_local_sidereal_time(rise_time, site_location) / 15.0)\n",
    "        settime[day] = (create_timestamp(set_time), calculate_local_sidereal_time(set_time, site_location) / 15.0)\n",
    "    \n",
    "    return settime, risetime\n"
   ]
  },
  {
   "cell_type": "code",
   "execution_count": null,
   "metadata": {},
   "outputs": [],
   "source": []
  },
  {
   "cell_type": "markdown",
   "metadata": {},
   "source": [
    "Identifying the night by taking the LST set and rise for each timestamp. "
   ]
  },
  {
   "cell_type": "code",
   "execution_count": 61,
   "metadata": {},
   "outputs": [],
   "source": [
    "def get_nighttime(riset,sett):\n",
    "    'Arranging LST rise and set time to show night time '\n",
    "    ind1 = 0\n",
    "    ind2 = -1\n",
    "       \n",
    "    rt_new = np.delete(riset, ind1)\n",
    "    st_new = np.delete(sett,ind2)\n",
    "    set_rise = {}\n",
    "    for i in range(len(riset)-1):\n",
    "        set_rise[i] = [st_new[i],rt_new[i]]\n",
    "    return set_rise"
   ]
  },
  {
   "cell_type": "code",
   "execution_count": 65,
   "metadata": {},
   "outputs": [
    {
     "data": {
      "text/plain": [
       "{0: [0.0, 0.0],\n",
       " 1: [0.0, 1698857665.804886],\n",
       " 2: [1698810097.87872, 21.051453271626],\n",
       " 3: [7.801962514512852, 1698944113.738086],\n",
       " 4: [1698896446.914639, 21.1305162676988],\n",
       " 5: [7.853478883523149, 1699030562.053562],\n",
       " 6: [1698982797.197651, 21.209685385385118],\n",
       " 7: [7.9053424356242, 1699117010.74065],\n",
       " 8: [1699069148.757262, 21.288957422485534],\n",
       " 9: [7.957561095405107, 1699203459.786671],\n",
       " 10: [1699155501.622203, 21.36832873142497],\n",
       " 11: [8.01014268666651, 1699289909.177005],\n",
       " 12: [1699241855.820418, 21.447795231735725],\n",
       " 13: [8.063094926191786, 1699376358.895194],\n",
       " 14: [1699328211.379039, 21.527352426819668],\n",
       " 15: [8.116425407171844, 1699462808.922969],\n",
       " 16: [1699414568.324389, 21.606995401232094],\n",
       " 17: [8.170141587882155, 1699549259.240305],\n",
       " 18: [1699500926.681931, 21.68671882445191],\n",
       " 19: [8.224250767547264, 1699635709.825368],\n",
       " 20: [1699587286.47619, 21.766516919202374],\n",
       " 21: [8.278760051446529, 1699722160.654493],\n",
       " 22: [1699673647.730671, 21.846383423819024],\n",
       " 23: [8.333676306675159, 1699808611.70212],\n",
       " 24: [1699760010.467752, 21.926311522368852],\n",
       " 25: [8.38900609111807, 1699895062.940766],\n",
       " 26: [1699846374.708634, 22.006293767352386],\n",
       " 27: [8.444755579684104, 1699981514.341031],\n",
       " 28: [1699932740.473311, 22.086322013567646],\n",
       " 29: [8.500930484811112, 1700067965.871727]}"
      ]
     },
     "execution_count": 65,
     "metadata": {},
     "output_type": "execute_result"
    }
   ],
   "source": [
    "sr = nighttime(s,r)\n",
    "sr"
   ]
  },
  {
   "cell_type": "markdown",
   "metadata": {},
   "source": [
    "function nighttime(riset, sett)\n",
    "    # Description: Arranging LST rise and set time to show night time\n",
    "\n",
    "    ind1 = 0\n",
    "    ind2 = -1\n",
    "\n",
    "    # Remove the first element from 'riset' and the last element from 'sett'\n",
    "    rt_new = remove_element(riset, ind1)\n",
    "    st_new = remove_element(sett, ind2)\n",
    "\n",
    "    # Create an empty dictionary to store the night time pairs\n",
    "    setrise = {}\n",
    "\n",
    "    # Iterate through the elements of 'riset' and 'sett' except the last element\n",
    "    for i in range(length(riset) - 1):\n",
    "        setrise[i] = [st_new[i], rt_new[i]\n",
    "\n",
    "    return set_rise\n",
    "\n",
    "# Helper function to remove an element from a list\n",
    "function remove_element(arr, index)\n",
    "    return arr[:index] + arr[index+1:]\n"
   ]
  },
  {
   "cell_type": "markdown",
   "metadata": {},
   "source": [
    "Given csv file constaining observational information for observation schedule blocks, the function extract the night time observations only. "
   ]
  },
  {
   "cell_type": "code",
   "execution_count": 116,
   "metadata": {},
   "outputs": [],
   "source": [
    "def nightobs(filename, datefile):\n",
    "    \"\"\"Extracting only night time observations\\\n",
    "    from a given file of observational information\n",
    "    \n",
    "        Parmeters:\n",
    "    -------------\n",
    "    filename : csv file\n",
    "        file containing all observations\n",
    "    s_rise : float\n",
    "        LST sun rise\n",
    "    \"\"\"\n",
    "    \n",
    "    ndates = []\n",
    "    for j in range(len(datefile)):\n",
    "        ndates.append(datefile[j].strftime('%Y-%m-%d'))\n",
    "    data = pd.read_csv(filename)\n",
    "    night_obs = data['night_obs']\n",
    "    LST_starts = data['lst_start']\n",
    "    LST_ends = data['lst_start_end']\n",
    "    duration = data['simulated_duration']\n",
    "    proposal_id = data['proposal_id']\n",
    "    #proposal_id = sorted(proposal_id)\n",
    "    ID = data['id']\n",
    "    \n",
    "    obs = {}\n",
    "    for i in range(len(night_obs)):\n",
    "        if night_obs[i] == 'Yes':\n",
    "            obs[ID[i]] = [proposal_id[i],LST_starts[i],LST_ends[i],duration[i]]\n",
    "    return obs, ndates"
   ]
  },
  {
   "cell_type": "markdown",
   "metadata": {},
   "source": [
    "function nightobs(filename, datefile)\n",
    "    \n",
    "    \"\"\"\n",
    "    Extracting only night-time observations from a given file of observational information\n",
    "\n",
    "    Parameters:\n",
    "    -------------\n",
    "    filename : csv file\n",
    "        File containing all observations\n",
    "    datefile : list of dates\n",
    "        List of dates to filter observations\n",
    "    \"\"\"\n",
    "    \n",
    "    # Initialize an empty list to store formatted dates\n",
    "    ndates = []\n",
    "\n",
    "    # Convert dates in datefile to a specific format and store them in ndates\n",
    "    for j in range(length(datefile)):\n",
    "        ndates.append(datefile[j].strftime('%Y-%m-%d'))\n",
    "\n",
    "    # Read data from the CSV file\n",
    "    data = read_csv(filename)\n",
    "\n",
    "    # Extract relevant columns from the data\n",
    "    night_obs = data['night_obs']\n",
    "    LST_starts = data['lst_start']\n",
    "    LST_ends = data['lst_start_end']\n",
    "    duration = data['simulated_duration']\n",
    "    proposal_id = data['proposal_id']\n",
    "    ID = data['id']\n",
    "    \n",
    "    # Initialize an empty dictionary to store filtered observations\n",
    "    obs = {}\n",
    "\n",
    "    # Iterate through the night_obs column to filter night-time observations\n",
    "    for i in range(length(night_obs)):\n",
    "        if night_obs[i] == 'Yes':\n",
    "            obs[ID[i]] = [proposal_id[i], LST_starts[i], LST_ends[i], duration[i]]\n",
    "\n",
    "    return obs, ndates\n"
   ]
  },
  {
   "cell_type": "markdown",
   "metadata": {},
   "source": [
    "Pass a csv file in order to run parameter_extract function. This cell gives us LST start, end and duration of the observation in the same format. "
   ]
  },
  {
   "cell_type": "code",
   "execution_count": 117,
   "metadata": {
    "scrolled": true
   },
   "outputs": [],
   "source": [
    "def format_params(obs):\n",
    "    \n",
    "    duration_ = []\n",
    "    LST_start = []\n",
    "    LST_end = []\n",
    "    obs_id = []\n",
    "    for i in obs.values():\n",
    "        duration_.append(round(i[3]/3600,2))    \n",
    "        g1 = i[1].replace(':', '.')\n",
    "        f1 = float(g1)\n",
    "        LST_start.append(f1)\n",
    "        g2 = i[2].replace(':', '.') \n",
    "        f2 = float(g2)\n",
    "        LST_end.append(f2)\n",
    "        obs_id.append(i[0])\n",
    "\n",
    "    duration_ = [0 if math.isnan(x) else x for x in duration_]\n",
    "\n",
    "    return LST_start, LST_end, duration_, obs_id"
   ]
  },
  {
   "cell_type": "markdown",
   "metadata": {},
   "source": [
    "function format_params(obs)\n",
    "    \n",
    "    \"\"\"\n",
    "    Format observation parameters.\n",
    "\n",
    "    Parameters:\n",
    "    -------------\n",
    "    obs : dictionary\n",
    "        Dictionary containing observation data\n",
    "\n",
    "    Returns:\n",
    "    -------------\n",
    "    LST_start : list\n",
    "        List of formatted LST start times\n",
    "    LST_end : list\n",
    "        List of formatted LST end times\n",
    "    duration_ : list\n",
    "        List of formatted durations\n",
    "    obs_id : list\n",
    "        List of observation IDs\n",
    "    \"\"\"\n",
    "\n",
    "    # Initialize empty lists to store formatted data\n",
    "    duration_ = []\n",
    "    LST_start = []\n",
    "    LST_end = []\n",
    "    obs_id = []\n",
    "\n",
    "    # Iterate through the values in the obs dictionary\n",
    "    for i in obs.values():\n",
    "        # Format and append duration\n",
    "        duration_.append(round(i[3] / 3600, 2))\n",
    "\n",
    "        # Format and append LST start time\n",
    "        g1 = i[1].replace(':', '.')\n",
    "        f1 = float(g1)\n",
    "        LST_start.append(f1)\n",
    "\n",
    "        # Format and append LST end time\n",
    "        g2 = i[2].replace(':', '.')\n",
    "        f2 = float(g2)\n",
    "        LST_end.append(f2)\n",
    "\n",
    "        # Append observation ID\n",
    "        obs_id.append(i[0])\n",
    "\n",
    "    # Replace any NaN values in duration_ with 0\n",
    "    duration_ = [0 if math.isnan(x) else x for x in duration_]\n",
    "\n",
    "    return LST_start, LST_end, duration_, obs_id\n"
   ]
  },
  {
   "cell_type": "markdown",
   "metadata": {},
   "source": [
    "We check if the observation time range is within the LST night time range and color each observation by red if is not(cant run at that day due to both its LST start and end being outside of the night time zone), yellow if it is not(cant run at that day due to its LST end being outside of the range) and green if it is(can run at that day)."
   ]
  },
  {
   "cell_type": "code",
   "execution_count": 118,
   "metadata": {},
   "outputs": [],
   "source": [
    "def obs_selection(s_set, s_rise, start_r, end_r, dur, observation_name):\n",
    "    \"\"\" Check if the observation time range is within the LST time range.\n",
    "    \n",
    "    Parmeters:\n",
    "    -------------\n",
    "    s_set : float\n",
    "        LST sun set\n",
    "    s_rise : float\n",
    "        LST sun rise\n",
    "    start_r : float\n",
    "        observation allowed start LST range\n",
    "    end_r : float\n",
    "        observation allowed end LST range\n",
    "    dur : float \n",
    "        observation duration in hours\n",
    "    \"\"\"\n",
    "    # check if observation start or end time is within the LST range\n",
    "    cond1 = start_r >= s_set\n",
    "    cond2 = end_r > s_set\n",
    "    if  cond1 or cond2:\n",
    "        if (cond1 and cond2) or cond1:\n",
    "            start_time = start_r\n",
    "            end_time = start_time + dur\n",
    "        else:\n",
    "            start_time = end_r\n",
    "            end_time = start_time + dur\n",
    "        if end_time > s_rise and end_time >= 24:\n",
    "            return (Fore.RED + '{} observation end time ({}) is outside the LST range'.format(observation_name, end_time-dur))\n",
    "        else:\n",
    "            if end_time >= 24:\n",
    "                end_time = end_time - 24\n",
    "    else:\n",
    "        return (Fore.YELLOW + '{} both start({}) and the end time ({}) are outside the LST range'.format(observation_name, start_time, end_time-dur))\n",
    "    \n",
    "    \n",
    "    return (Fore.GREEN + 'Start time for {} is {} and end_time is {}'.format(observation_name, start_time, end_time))\n",
    "    "
   ]
  },
  {
   "cell_type": "markdown",
   "metadata": {},
   "source": [
    "function obs_selection(s_set, s_rise, start_r, end_r, dur, observation_name)\n",
    "    \n",
    "    \"\"\"\n",
    "    Select observations based on LST ranges.\n",
    "\n",
    "    Parameters:\n",
    "    -------------\n",
    "    s_set : float\n",
    "        LST time of sunset\n",
    "    s_rise : float\n",
    "        LST time of sunrise\n",
    "    start_r : float\n",
    "        Observation start time\n",
    "    end_r : float\n",
    "        Observation end time\n",
    "    dur : float\n",
    "        Duration of the observation\n",
    "    observation_name : str\n",
    "        Name of the observation\n",
    "\n",
    "    Returns:\n",
    "    -------------\n",
    "    str\n",
    "        A message indicating the status of the observation selection\n",
    "    \"\"\"\n",
    "\n",
    "    # Check if observation start or end time is within the LST range\n",
    "    condition1 = start_r >= s_set\n",
    "    condition2 = end_r > s_set\n",
    "\n",
    "    if condition1 or condition2:\n",
    "        if condition1 and condition2 or condition1:\n",
    "            start_time = start_r\n",
    "            end_time = start_time + duration\n",
    "        else:\n",
    "            start_time = end_r\n",
    "            end_time = start_time + duration\n",
    "\n",
    "        if end_time > s_rise and end_time >= 24:\n",
    "            return (Fore.RED + '{} observation end time ({}) is outside the LST range'.format(observation_name, end_time - duration))\n",
    "        else:\n",
    "            if end_time >= 24:\n",
    "                end_time = end_time - 24\n",
    "    else:\n",
    "        return (Fore.YELLOW + '{} both start({}) and the end time ({}) are outside the LST range'.format(observation_name, start_time, end_time - duration))\n",
    "\n",
    "    return (Fore.GREEN + 'Start time for {} is {} and end_time is {}'.format(observation_name, start_time, end_time))\n"
   ]
  },
  {
   "cell_type": "code",
   "execution_count": 122,
   "metadata": {},
   "outputs": [
    {
     "ename": "ModuleNotFoundError",
     "evalue": "No module named 'astral'",
     "output_type": "error",
     "traceback": [
      "\u001b[0;31m---------------------------------------------------------------------------\u001b[0m",
      "\u001b[0;31mModuleNotFoundError\u001b[0m                       Traceback (most recent call last)",
      "\u001b[0;32m<ipython-input-122-2b15d484ce0a>\u001b[0m in \u001b[0;36m<module>\u001b[0;34m\u001b[0m\n\u001b[0;32m----> 1\u001b[0;31m \u001b[0;32mfrom\u001b[0m \u001b[0mastral\u001b[0m\u001b[0;34m.\u001b[0m\u001b[0msun\u001b[0m \u001b[0;32mimport\u001b[0m \u001b[0msun\u001b[0m\u001b[0;34m\u001b[0m\u001b[0;34m\u001b[0m\u001b[0m\n\u001b[0m\u001b[1;32m      2\u001b[0m \u001b[0;32mfrom\u001b[0m \u001b[0mastral\u001b[0m \u001b[0;32mimport\u001b[0m \u001b[0mLocationInfo\u001b[0m\u001b[0;34m\u001b[0m\u001b[0;34m\u001b[0m\u001b[0m\n\u001b[1;32m      3\u001b[0m \u001b[0;34m\u001b[0m\u001b[0m\n\u001b[1;32m      4\u001b[0m \u001b[0;32mdef\u001b[0m \u001b[0msun_stats\u001b[0m\u001b[0;34m(\u001b[0m\u001b[0mdt\u001b[0m\u001b[0;34m,\u001b[0m \u001b[0mlat\u001b[0m\u001b[0;34m,\u001b[0m \u001b[0mlng\u001b[0m\u001b[0;34m)\u001b[0m\u001b[0;34m:\u001b[0m\u001b[0;34m\u001b[0m\u001b[0;34m\u001b[0m\u001b[0m\n\u001b[1;32m      5\u001b[0m     \u001b[0mlocation\u001b[0m \u001b[0;34m=\u001b[0m \u001b[0mLocationInfo\u001b[0m\u001b[0;34m(\u001b[0m\u001b[0mlatitude\u001b[0m\u001b[0;34m=\u001b[0m\u001b[0mlatitude\u001b[0m\u001b[0;34m,\u001b[0m \u001b[0mlongitude\u001b[0m\u001b[0;34m=\u001b[0m\u001b[0mlongitude\u001b[0m\u001b[0;34m)\u001b[0m\u001b[0;34m\u001b[0m\u001b[0;34m\u001b[0m\u001b[0m\n",
      "\u001b[0;31mModuleNotFoundError\u001b[0m: No module named 'astral'"
     ]
    }
   ],
   "source": [
    "from astral.sun import sun\n",
    "from astral import LocationInfo\n",
    "\n",
    "def sun_stats(dt, lat, lng):\n",
    "    location = LocationInfo(latitude=latitude, longitude=longitude)\n",
    "    location.timezone = \"UTC\" # I find fixing dates to utc reassuring and helpful\n",
    "    return sun(location.observer, date=dt)"
   ]
  },
  {
   "cell_type": "code",
   "execution_count": 3,
   "metadata": {},
   "outputs": [],
   "source": [
    "from datetime import datetime, timedelta\n",
    "\n",
    "start = datetime(2023,1,1)\n",
    "end = datetime(2023,2,1)\n",
    "\n",
    "calendar = [\n",
    "    {\n",
    "        \"dt\": start + timedelta(days=d),\n",
    "        \"lst_start\": \"calc this\",\n",
    "        \"lst_end\": \"calc this\"\n",
    "    }\n",
    "    for d in range(0, (end - start).days + 1)\n",
    "]"
   ]
  },
  {
   "cell_type": "code",
   "execution_count": 4,
   "metadata": {},
   "outputs": [
    {
     "data": {
      "text/plain": [
       "[{'dt': datetime.datetime(2023, 1, 1, 0, 0),\n",
       "  'lst_start': 'calc this',\n",
       "  'lst_end': 'calc this'},\n",
       " {'dt': datetime.datetime(2023, 1, 2, 0, 0),\n",
       "  'lst_start': 'calc this',\n",
       "  'lst_end': 'calc this'},\n",
       " {'dt': datetime.datetime(2023, 1, 3, 0, 0),\n",
       "  'lst_start': 'calc this',\n",
       "  'lst_end': 'calc this'},\n",
       " {'dt': datetime.datetime(2023, 1, 4, 0, 0),\n",
       "  'lst_start': 'calc this',\n",
       "  'lst_end': 'calc this'},\n",
       " {'dt': datetime.datetime(2023, 1, 5, 0, 0),\n",
       "  'lst_start': 'calc this',\n",
       "  'lst_end': 'calc this'},\n",
       " {'dt': datetime.datetime(2023, 1, 6, 0, 0),\n",
       "  'lst_start': 'calc this',\n",
       "  'lst_end': 'calc this'},\n",
       " {'dt': datetime.datetime(2023, 1, 7, 0, 0),\n",
       "  'lst_start': 'calc this',\n",
       "  'lst_end': 'calc this'},\n",
       " {'dt': datetime.datetime(2023, 1, 8, 0, 0),\n",
       "  'lst_start': 'calc this',\n",
       "  'lst_end': 'calc this'},\n",
       " {'dt': datetime.datetime(2023, 1, 9, 0, 0),\n",
       "  'lst_start': 'calc this',\n",
       "  'lst_end': 'calc this'},\n",
       " {'dt': datetime.datetime(2023, 1, 10, 0, 0),\n",
       "  'lst_start': 'calc this',\n",
       "  'lst_end': 'calc this'},\n",
       " {'dt': datetime.datetime(2023, 1, 11, 0, 0),\n",
       "  'lst_start': 'calc this',\n",
       "  'lst_end': 'calc this'},\n",
       " {'dt': datetime.datetime(2023, 1, 12, 0, 0),\n",
       "  'lst_start': 'calc this',\n",
       "  'lst_end': 'calc this'},\n",
       " {'dt': datetime.datetime(2023, 1, 13, 0, 0),\n",
       "  'lst_start': 'calc this',\n",
       "  'lst_end': 'calc this'},\n",
       " {'dt': datetime.datetime(2023, 1, 14, 0, 0),\n",
       "  'lst_start': 'calc this',\n",
       "  'lst_end': 'calc this'},\n",
       " {'dt': datetime.datetime(2023, 1, 15, 0, 0),\n",
       "  'lst_start': 'calc this',\n",
       "  'lst_end': 'calc this'},\n",
       " {'dt': datetime.datetime(2023, 1, 16, 0, 0),\n",
       "  'lst_start': 'calc this',\n",
       "  'lst_end': 'calc this'},\n",
       " {'dt': datetime.datetime(2023, 1, 17, 0, 0),\n",
       "  'lst_start': 'calc this',\n",
       "  'lst_end': 'calc this'},\n",
       " {'dt': datetime.datetime(2023, 1, 18, 0, 0),\n",
       "  'lst_start': 'calc this',\n",
       "  'lst_end': 'calc this'},\n",
       " {'dt': datetime.datetime(2023, 1, 19, 0, 0),\n",
       "  'lst_start': 'calc this',\n",
       "  'lst_end': 'calc this'},\n",
       " {'dt': datetime.datetime(2023, 1, 20, 0, 0),\n",
       "  'lst_start': 'calc this',\n",
       "  'lst_end': 'calc this'},\n",
       " {'dt': datetime.datetime(2023, 1, 21, 0, 0),\n",
       "  'lst_start': 'calc this',\n",
       "  'lst_end': 'calc this'},\n",
       " {'dt': datetime.datetime(2023, 1, 22, 0, 0),\n",
       "  'lst_start': 'calc this',\n",
       "  'lst_end': 'calc this'},\n",
       " {'dt': datetime.datetime(2023, 1, 23, 0, 0),\n",
       "  'lst_start': 'calc this',\n",
       "  'lst_end': 'calc this'},\n",
       " {'dt': datetime.datetime(2023, 1, 24, 0, 0),\n",
       "  'lst_start': 'calc this',\n",
       "  'lst_end': 'calc this'},\n",
       " {'dt': datetime.datetime(2023, 1, 25, 0, 0),\n",
       "  'lst_start': 'calc this',\n",
       "  'lst_end': 'calc this'},\n",
       " {'dt': datetime.datetime(2023, 1, 26, 0, 0),\n",
       "  'lst_start': 'calc this',\n",
       "  'lst_end': 'calc this'},\n",
       " {'dt': datetime.datetime(2023, 1, 27, 0, 0),\n",
       "  'lst_start': 'calc this',\n",
       "  'lst_end': 'calc this'},\n",
       " {'dt': datetime.datetime(2023, 1, 28, 0, 0),\n",
       "  'lst_start': 'calc this',\n",
       "  'lst_end': 'calc this'},\n",
       " {'dt': datetime.datetime(2023, 1, 29, 0, 0),\n",
       "  'lst_start': 'calc this',\n",
       "  'lst_end': 'calc this'},\n",
       " {'dt': datetime.datetime(2023, 1, 30, 0, 0),\n",
       "  'lst_start': 'calc this',\n",
       "  'lst_end': 'calc this'},\n",
       " {'dt': datetime.datetime(2023, 1, 31, 0, 0),\n",
       "  'lst_start': 'calc this',\n",
       "  'lst_end': 'calc this'},\n",
       " {'dt': datetime.datetime(2023, 2, 1, 0, 0),\n",
       "  'lst_start': 'calc this',\n",
       "  'lst_end': 'calc this'}]"
      ]
     },
     "execution_count": 4,
     "metadata": {},
     "output_type": "execute_result"
    }
   ],
   "source": [
    "calendar"
   ]
  },
  {
   "cell_type": "code",
   "execution_count": 3,
   "metadata": {},
   "outputs": [
    {
     "ename": "ModuleNotFoundError",
     "evalue": "No module named 'normalize_coordinates'",
     "output_type": "error",
     "traceback": [
      "\u001b[0;31m---------------------------------------------------------------------------\u001b[0m",
      "\u001b[0;31mModuleNotFoundError\u001b[0m                       Traceback (most recent call last)",
      "\u001b[0;32m<ipython-input-3-aac913167c00>\u001b[0m in \u001b[0;36m<module>\u001b[0;34m\u001b[0m\n\u001b[1;32m     10\u001b[0m \u001b[0;32mfrom\u001b[0m \u001b[0mastral\u001b[0m\u001b[0;34m.\u001b[0m\u001b[0msun\u001b[0m \u001b[0;32mimport\u001b[0m \u001b[0msun\u001b[0m\u001b[0;34m\u001b[0m\u001b[0;34m\u001b[0m\u001b[0m\n\u001b[1;32m     11\u001b[0m \u001b[0;32mfrom\u001b[0m \u001b[0mastral\u001b[0m \u001b[0;32mimport\u001b[0m \u001b[0mLocationInfo\u001b[0m\u001b[0;34m\u001b[0m\u001b[0;34m\u001b[0m\u001b[0m\n\u001b[0;32m---> 12\u001b[0;31m \u001b[0;32mfrom\u001b[0m \u001b[0mnormalize_coordinates\u001b[0m \u001b[0;32mimport\u001b[0m \u001b[0mnormalize_coordinates\u001b[0m\u001b[0;34m\u001b[0m\u001b[0;34m\u001b[0m\u001b[0m\n\u001b[0m\u001b[1;32m     13\u001b[0m \u001b[0;32mfrom\u001b[0m \u001b[0;34m.\u001b[0m\u001b[0mnormalize_date\u001b[0m \u001b[0;32mimport\u001b[0m \u001b[0mnormalize_yyyymmdd_to_datetime\u001b[0m\u001b[0;34m\u001b[0m\u001b[0;34m\u001b[0m\u001b[0m\n\u001b[1;32m     14\u001b[0m \u001b[0;34m\u001b[0m\u001b[0m\n",
      "\u001b[0;31mModuleNotFoundError\u001b[0m: No module named 'normalize_coordinates'"
     ]
    }
   ],
   "source": [
    "\n",
    "from typing import Union\n",
    "from astral.sun import sun\n",
    "from astral import LocationInfo\n",
    "from normalize_coordinates import normalize_coordinates\n",
    "from .normalize_date import normalize_yyyymmdd_to_datetime\n",
    "\n",
    "\n",
    "def sun_stats(latitude: Union[float, str], longitude: Union[float, str], yyyymmdd: str) -> dict:\n",
    "\n",
    "    latitude, longitude = normalize_coordinates(latitude, longitude)\n",
    "    dt = normalize_yyyymmdd_to_datetime(yyyymmdd)\n",
    "    location = LocationInfo(latitude=latitude, longitude=longitude)\n",
    "    location.timezone = \"UTC\"\n",
    "    return sun(location.observer, date=dt)"
   ]
  },
  {
   "cell_type": "code",
   "execution_count": 4,
   "metadata": {},
   "outputs": [],
   "source": [
    "from astral.sun import sun\n",
    "from astral import LocationInfo\n",
    "\n",
    "def sun_stats(dt, lat, lng):\n",
    "    location = LocationInfo(latitude=latitude, longitude=longitude)\n",
    "    location.timezone = \"UTC\" # I find fixing dates to utc reassuring and helpful\n",
    "    return sun(location.observer, date=dt)"
   ]
  },
  {
   "cell_type": "code",
   "execution_count": 5,
   "metadata": {},
   "outputs": [
    {
     "ename": "SyntaxError",
     "evalue": "invalid syntax (<ipython-input-5-9b329407a358>, line 1)",
     "output_type": "error",
     "traceback": [
      "\u001b[0;36m  File \u001b[0;32m\"<ipython-input-5-9b329407a358>\"\u001b[0;36m, line \u001b[0;32m1\u001b[0m\n\u001b[0;31m    s = sun_stats(datetime(2023,1,1),-30:42:39.8, 21:26:38.0)\u001b[0m\n\u001b[0m                                        ^\u001b[0m\n\u001b[0;31mSyntaxError\u001b[0m\u001b[0;31m:\u001b[0m invalid syntax\n"
     ]
    }
   ],
   "source": [
    "\n",
    "s = sun_stats(datetime(2023,1,1),-30:42:39.8, 21:26:38.0)"
   ]
  },
  {
   "cell_type": "code",
   "execution_count": null,
   "metadata": {},
   "outputs": [],
   "source": []
  },
  {
   "cell_type": "code",
   "execution_count": 7,
   "metadata": {},
   "outputs": [],
   "source": [
    "location = LocationInfo(latitude=30.7130, longitude=21.4430)"
   ]
  },
  {
   "cell_type": "code",
   "execution_count": 8,
   "metadata": {},
   "outputs": [
    {
     "data": {
      "text/plain": [
       "LocationInfo(name='Greenwich', region='England', timezone='Europe/London', latitude=30.713, longitude=21.443)"
      ]
     },
     "execution_count": 8,
     "metadata": {},
     "output_type": "execute_result"
    }
   ],
   "source": [
    "location"
   ]
  },
  {
   "cell_type": "code",
   "execution_count": 9,
   "metadata": {},
   "outputs": [
    {
     "ename": "AttributeError",
     "evalue": "module 'datetime' has no attribute 'year'",
     "output_type": "error",
     "traceback": [
      "\u001b[0;31m---------------------------------------------------------------------------\u001b[0m",
      "\u001b[0;31mAttributeError\u001b[0m                            Traceback (most recent call last)",
      "\u001b[0;32m<ipython-input-9-446b29148198>\u001b[0m in \u001b[0;36m<module>\u001b[0;34m\u001b[0m\n\u001b[0;32m----> 1\u001b[0;31m \u001b[0msun\u001b[0m\u001b[0;34m(\u001b[0m\u001b[0mlocation\u001b[0m\u001b[0;34m.\u001b[0m\u001b[0mobserver\u001b[0m\u001b[0;34m,\u001b[0m \u001b[0mdate\u001b[0m\u001b[0;34m=\u001b[0m\u001b[0mdt\u001b[0m\u001b[0;34m)\u001b[0m\u001b[0;34m\u001b[0m\u001b[0;34m\u001b[0m\u001b[0m\n\u001b[0m",
      "\u001b[0;32m/opt/anaconda3/lib/python3.7/site-packages/astral/sun.py\u001b[0m in \u001b[0;36msun\u001b[0;34m(observer, date, dawn_dusk_depression, tzinfo)\u001b[0m\n\u001b[1;32m   1261\u001b[0m \u001b[0;34m\u001b[0m\u001b[0m\n\u001b[1;32m   1262\u001b[0m     return {\n\u001b[0;32m-> 1263\u001b[0;31m         \u001b[0;34m\"dawn\"\u001b[0m\u001b[0;34m:\u001b[0m \u001b[0mdawn\u001b[0m\u001b[0;34m(\u001b[0m\u001b[0mobserver\u001b[0m\u001b[0;34m,\u001b[0m \u001b[0mdate\u001b[0m\u001b[0;34m,\u001b[0m \u001b[0mdawn_dusk_depression\u001b[0m\u001b[0;34m,\u001b[0m \u001b[0mtzinfo\u001b[0m\u001b[0;34m)\u001b[0m\u001b[0;34m,\u001b[0m\u001b[0;34m\u001b[0m\u001b[0;34m\u001b[0m\u001b[0m\n\u001b[0m\u001b[1;32m   1264\u001b[0m         \u001b[0;34m\"sunrise\"\u001b[0m\u001b[0;34m:\u001b[0m \u001b[0msunrise\u001b[0m\u001b[0;34m(\u001b[0m\u001b[0mobserver\u001b[0m\u001b[0;34m,\u001b[0m \u001b[0mdate\u001b[0m\u001b[0;34m,\u001b[0m \u001b[0mtzinfo\u001b[0m\u001b[0;34m)\u001b[0m\u001b[0;34m,\u001b[0m\u001b[0;34m\u001b[0m\u001b[0;34m\u001b[0m\u001b[0m\n\u001b[1;32m   1265\u001b[0m         \u001b[0;34m\"noon\"\u001b[0m\u001b[0;34m:\u001b[0m \u001b[0mnoon\u001b[0m\u001b[0;34m(\u001b[0m\u001b[0mobserver\u001b[0m\u001b[0;34m,\u001b[0m \u001b[0mdate\u001b[0m\u001b[0;34m,\u001b[0m \u001b[0mtzinfo\u001b[0m\u001b[0;34m)\u001b[0m\u001b[0;34m,\u001b[0m\u001b[0;34m\u001b[0m\u001b[0;34m\u001b[0m\u001b[0m\n",
      "\u001b[0;32m/opt/anaconda3/lib/python3.7/site-packages/astral/sun.py\u001b[0m in \u001b[0;36mdawn\u001b[0;34m(observer, date, depression, tzinfo)\u001b[0m\n\u001b[1;32m    720\u001b[0m     \u001b[0;32mtry\u001b[0m\u001b[0;34m:\u001b[0m\u001b[0;34m\u001b[0m\u001b[0;34m\u001b[0m\u001b[0m\n\u001b[1;32m    721\u001b[0m         tot = time_of_transit(\n\u001b[0;32m--> 722\u001b[0;31m             \u001b[0mobserver\u001b[0m\u001b[0;34m,\u001b[0m \u001b[0mdate\u001b[0m\u001b[0;34m,\u001b[0m \u001b[0;36m90.0\u001b[0m \u001b[0;34m+\u001b[0m \u001b[0mdep\u001b[0m\u001b[0;34m,\u001b[0m \u001b[0mSunDirection\u001b[0m\u001b[0;34m.\u001b[0m\u001b[0mRISING\u001b[0m\u001b[0;34m\u001b[0m\u001b[0;34m\u001b[0m\u001b[0m\n\u001b[0m\u001b[1;32m    723\u001b[0m         \u001b[0;34m)\u001b[0m\u001b[0;34m.\u001b[0m\u001b[0mastimezone\u001b[0m\u001b[0;34m(\u001b[0m\u001b[0;34m\u001b[0m\u001b[0;34m\u001b[0m\u001b[0m\n\u001b[1;32m    724\u001b[0m             \u001b[0mtzinfo\u001b[0m  \u001b[0;31m# type: ignore\u001b[0m\u001b[0;34m\u001b[0m\u001b[0;34m\u001b[0m\u001b[0m\n",
      "\u001b[0;32m/opt/anaconda3/lib/python3.7/site-packages/astral/sun.py\u001b[0m in \u001b[0;36mtime_of_transit\u001b[0;34m(observer, date, zenith, direction, with_refraction)\u001b[0m\n\u001b[1;32m    294\u001b[0m         \u001b[0madjustment_for_refraction\u001b[0m \u001b[0;34m=\u001b[0m \u001b[0;36m0.0\u001b[0m\u001b[0;34m\u001b[0m\u001b[0;34m\u001b[0m\u001b[0m\n\u001b[1;32m    295\u001b[0m \u001b[0;34m\u001b[0m\u001b[0m\n\u001b[0;32m--> 296\u001b[0;31m     \u001b[0mjd\u001b[0m \u001b[0;34m=\u001b[0m \u001b[0mjulianday\u001b[0m\u001b[0;34m(\u001b[0m\u001b[0mdate\u001b[0m\u001b[0;34m)\u001b[0m\u001b[0;34m\u001b[0m\u001b[0;34m\u001b[0m\u001b[0m\n\u001b[0m\u001b[1;32m    297\u001b[0m     \u001b[0madjustment\u001b[0m \u001b[0;34m=\u001b[0m \u001b[0;36m0.0\u001b[0m\u001b[0;34m\u001b[0m\u001b[0;34m\u001b[0m\u001b[0m\n\u001b[1;32m    298\u001b[0m     \u001b[0mtimeUTC\u001b[0m \u001b[0;34m=\u001b[0m \u001b[0;36m0.0\u001b[0m\u001b[0;34m\u001b[0m\u001b[0;34m\u001b[0m\u001b[0m\n",
      "\u001b[0;32m/opt/anaconda3/lib/python3.7/site-packages/astral/julian.py\u001b[0m in \u001b[0;36mjulianday\u001b[0;34m(at, calendar)\u001b[0m\n\u001b[1;32m     30\u001b[0m         \u001b[0;32mreturn\u001b[0m \u001b[0mint\u001b[0m\u001b[0;34m(\u001b[0m\u001b[0mt\u001b[0m\u001b[0;34m.\u001b[0m\u001b[0mhour\u001b[0m \u001b[0;34m*\u001b[0m \u001b[0;36m3600\u001b[0m \u001b[0;34m+\u001b[0m \u001b[0mt\u001b[0m\u001b[0;34m.\u001b[0m\u001b[0mminute\u001b[0m \u001b[0;34m*\u001b[0m \u001b[0;36m60\u001b[0m \u001b[0;34m+\u001b[0m \u001b[0mt\u001b[0m\u001b[0;34m.\u001b[0m\u001b[0msecond\u001b[0m\u001b[0;34m)\u001b[0m\u001b[0;34m\u001b[0m\u001b[0;34m\u001b[0m\u001b[0m\n\u001b[1;32m     31\u001b[0m \u001b[0;34m\u001b[0m\u001b[0m\n\u001b[0;32m---> 32\u001b[0;31m     \u001b[0myear\u001b[0m \u001b[0;34m=\u001b[0m \u001b[0mat\u001b[0m\u001b[0;34m.\u001b[0m\u001b[0myear\u001b[0m\u001b[0;34m\u001b[0m\u001b[0;34m\u001b[0m\u001b[0m\n\u001b[0m\u001b[1;32m     33\u001b[0m     \u001b[0mmonth\u001b[0m \u001b[0;34m=\u001b[0m \u001b[0mat\u001b[0m\u001b[0;34m.\u001b[0m\u001b[0mmonth\u001b[0m\u001b[0;34m\u001b[0m\u001b[0;34m\u001b[0m\u001b[0m\n\u001b[1;32m     34\u001b[0m     \u001b[0mday\u001b[0m \u001b[0;34m=\u001b[0m \u001b[0mat\u001b[0m\u001b[0;34m.\u001b[0m\u001b[0mday\u001b[0m\u001b[0;34m\u001b[0m\u001b[0;34m\u001b[0m\u001b[0m\n",
      "\u001b[0;31mAttributeError\u001b[0m: module 'datetime' has no attribute 'year'"
     ]
    }
   ],
   "source": [
    "sun(location.observer, date=dt)"
   ]
  },
  {
   "cell_type": "code",
   "execution_count": null,
   "metadata": {},
   "outputs": [],
   "source": []
  }
 ],
 "metadata": {
  "kernelspec": {
   "display_name": "Python 3 (ipykernel)",
   "language": "python",
   "name": "python3"
  },
  "language_info": {
   "codemirror_mode": {
    "name": "ipython",
    "version": 3
   },
   "file_extension": ".py",
   "mimetype": "text/x-python",
   "name": "python",
   "nbconvert_exporter": "python",
   "pygments_lexer": "ipython3",
   "version": "3.9.6"
  }
 },
 "nbformat": 4,
 "nbformat_minor": 4
}
