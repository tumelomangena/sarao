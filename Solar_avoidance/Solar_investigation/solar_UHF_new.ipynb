{
 "cells": [
  {
   "cell_type": "code",
   "execution_count": 1,
   "metadata": {},
   "outputs": [
    {
     "name": "stdout",
     "output_type": "stream",
     "text": [
      "Populating the interactive namespace from numpy and matplotlib\n",
      "WARNING: PyFITS was not found - FITS creation will be disabled\n"
     ]
    }
   ],
   "source": [
    "import os\n",
    "import katdal\n",
    "import katpoint\n",
    "%pylab inline\n",
    "import scape\n",
    "import string\n",
    "import time\n",
    "import logging\n",
    "logging.basicConfig()\n",
    "logging.getLogger().setLevel(logging.WARNING)"
   ]
  },
  {
   "cell_type": "code",
   "execution_count": 2,
   "metadata": {},
   "outputs": [],
   "source": [
    "name = '1659787590' #'1607433065'  # e.g 1583650035\n",
    "file_=str('http://archive-gw-1.kat.ac.za:7480/'+name+'/'+name+'_sdp_l0.full.rdb')\n",
    "rdb = katdal.open(file_)"
   ]
  },
  {
   "cell_type": "code",
   "execution_count": 3,
   "metadata": {},
   "outputs": [
    {
     "name": "stdout",
     "output_type": "stream",
     "text": [
      "61\n"
     ]
    }
   ],
   "source": [
    "print(len(rdb.ants)-1)"
   ]
  },
  {
   "cell_type": "code",
   "execution_count": 4,
   "metadata": {},
   "outputs": [],
   "source": [
    "def data_cal(file, nd_models, pol):\n",
    "    \n",
    "    ant_len = len(file.ants)\n",
    "    ants = [file.ants[i].name for i in range(ant_len)]\n",
    "    #ants = ['m049', 'm050','m058']\n",
    "    ants.remove('m060')\n",
    "    ants.remove('m024')\n",
    "    \n",
    "    angle_sep = {}\n",
    "    temp = {}\n",
    "    for ant in range(ant_len-2):\n",
    "        data = scape.DataSet(file, baseline=\"%s\" %(ants[ant]), nd_models=nd_models)\n",
    "        data = data.convert_power_to_temperature()\n",
    "        data = data.select(flagkeep='~nd_on') #removing the noise diode\n",
    "        data = data.select(labelkeep='scan')  #keeps the scan and remove anything at the end\n",
    "    \n",
    "        angle_sep[ants[ant]] = np.sqrt(np.sum((np.degrees(data.scans[0].target_coords))**2,axis=0))\n",
    "        temp[ants[ant]] = data.scans[0].pol(2*pol.upper()).mean(axis=1)    \n",
    "        \n",
    "    return angle_sep, temp, data, ants"
   ]
  },
  {
   "cell_type": "code",
   "execution_count": 31,
   "metadata": {},
   "outputs": [
    {
     "name": "stderr",
     "output_type": "stream",
     "text": [
      "/scratch2/lkara/venv-py3/lib/python3.6/site-packages/scape/gaincal.py:277: RuntimeWarning: invalid value encountered in true_divide\n",
      "  norm_jump = nd_delta_mu / nd_delta_sigma\n"
     ]
    }
   ],
   "source": [
    "angle_sep = {}\n",
    "temp = {}\n",
    "ants = rdb.ants\n",
    "nd_model ='katconfig/user/noise-diode-models/mkat'\n",
    "data = scape.DataSet(rdb, baseline=\"%s\" %(ants[0].name), nd_models=nd_model)\n",
    "data = data.convert_power_to_temperature()\n",
    "data = data.select(flagkeep='~nd_on')\n",
    "data = data.select(labelkeep='scan') \n",
    "angle_sep[ants[0].name] = np.sqrt(np.sum((np.degrees(data.scans[0].target_coords))**2,axis=0))\n",
    "temp[ants[0].name] = data.scans[0].pol('HH').mean(axis=1)"
   ]
  },
  {
   "cell_type": "code",
   "execution_count": 45,
   "metadata": {},
   "outputs": [],
   "source": [
    "ants = [rdb.ants[i].name for i in range(61)]"
   ]
  },
  {
   "cell_type": "code",
   "execution_count": 5,
   "metadata": {},
   "outputs": [
    {
     "name": "stdout",
     "output_type": "stream",
     "text": [
      "WARNING: Last data point for sensor 'anc_air_pressure' arrives 7.30236 seconds before end of data set\n"
     ]
    },
    {
     "name": "stderr",
     "output_type": "stream",
     "text": [
      "/scratch2/lkara/venv-py3/lib/python3.6/site-packages/scape/gaincal.py:277: RuntimeWarning: invalid value encountered in true_divide\n",
      "  norm_jump = nd_delta_mu / nd_delta_sigma\n",
      "/scratch2/lkara/venv-py3/lib/python3.6/site-packages/scape/gaincal.py:277: RuntimeWarning: invalid value encountered in true_divide\n",
      "  norm_jump = nd_delta_mu / nd_delta_sigma\n",
      "/scratch2/lkara/venv-py3/lib/python3.6/site-packages/scape/gaincal.py:277: RuntimeWarning: invalid value encountered in true_divide\n",
      "  norm_jump = nd_delta_mu / nd_delta_sigma\n",
      "/scratch2/lkara/venv-py3/lib/python3.6/site-packages/scape/gaincal.py:277: RuntimeWarning: invalid value encountered in true_divide\n",
      "  norm_jump = nd_delta_mu / nd_delta_sigma\n",
      "/scratch2/lkara/venv-py3/lib/python3.6/site-packages/scape/gaincal.py:277: RuntimeWarning: invalid value encountered in true_divide\n",
      "  norm_jump = nd_delta_mu / nd_delta_sigma\n"
     ]
    },
    {
     "name": "stdout",
     "output_type": "stream",
     "text": [
      "WARNING: Retrying (Retry(total=9, connect=2, read=1, redirect=None, status=0)) after connection broken by 'ProtocolError('Connection aborted.', RemoteDisconnected('Remote end closed connection without response',))': /1659787590-sdp-l0/correlator_data/00257_00768_00000.npy\n"
     ]
    },
    {
     "name": "stderr",
     "output_type": "stream",
     "text": [
      "/scratch2/lkara/venv-py3/lib/python3.6/site-packages/scape/gaincal.py:277: RuntimeWarning: invalid value encountered in true_divide\n",
      "  norm_jump = nd_delta_mu / nd_delta_sigma\n",
      "/scratch2/lkara/venv-py3/lib/python3.6/site-packages/scape/gaincal.py:277: RuntimeWarning: invalid value encountered in true_divide\n",
      "  norm_jump = nd_delta_mu / nd_delta_sigma\n",
      "/scratch2/lkara/venv-py3/lib/python3.6/site-packages/scape/gaincal.py:277: RuntimeWarning: invalid value encountered in true_divide\n",
      "  norm_jump = nd_delta_mu / nd_delta_sigma\n"
     ]
    },
    {
     "name": "stdout",
     "output_type": "stream",
     "text": [
      "WARNING: Retrying (Retry(total=9, connect=2, read=1, redirect=None, status=0)) after connection broken by 'ProtocolError('Connection aborted.', RemoteDisconnected('Remote end closed connection without response',))': /1659787590-sdp-l0/correlator_data/00008_00256_00000.npy\n"
     ]
    },
    {
     "name": "stderr",
     "output_type": "stream",
     "text": [
      "/scratch2/lkara/venv-py3/lib/python3.6/site-packages/scape/gaincal.py:277: RuntimeWarning: invalid value encountered in true_divide\n",
      "  norm_jump = nd_delta_mu / nd_delta_sigma\n",
      "/scratch2/lkara/venv-py3/lib/python3.6/site-packages/scape/gaincal.py:277: RuntimeWarning: invalid value encountered in true_divide\n",
      "  norm_jump = nd_delta_mu / nd_delta_sigma\n",
      "/scratch2/lkara/venv-py3/lib/python3.6/site-packages/scape/gaincal.py:277: RuntimeWarning: invalid value encountered in true_divide\n",
      "  norm_jump = nd_delta_mu / nd_delta_sigma\n",
      "/scratch2/lkara/venv-py3/lib/python3.6/site-packages/scape/gaincal.py:277: RuntimeWarning: invalid value encountered in true_divide\n",
      "  norm_jump = nd_delta_mu / nd_delta_sigma\n",
      "/scratch2/lkara/venv-py3/lib/python3.6/site-packages/scape/gaincal.py:277: RuntimeWarning: invalid value encountered in true_divide\n",
      "  norm_jump = nd_delta_mu / nd_delta_sigma\n",
      "/scratch2/lkara/venv-py3/lib/python3.6/site-packages/scape/gaincal.py:277: RuntimeWarning: invalid value encountered in true_divide\n",
      "  norm_jump = nd_delta_mu / nd_delta_sigma\n",
      "/scratch2/lkara/venv-py3/lib/python3.6/site-packages/scape/gaincal.py:277: RuntimeWarning: invalid value encountered in true_divide\n",
      "  norm_jump = nd_delta_mu / nd_delta_sigma\n",
      "/scratch2/lkara/venv-py3/lib/python3.6/site-packages/scape/gaincal.py:277: RuntimeWarning: invalid value encountered in true_divide\n",
      "  norm_jump = nd_delta_mu / nd_delta_sigma\n",
      "/scratch2/lkara/venv-py3/lib/python3.6/site-packages/scape/gaincal.py:277: RuntimeWarning: invalid value encountered in true_divide\n",
      "  norm_jump = nd_delta_mu / nd_delta_sigma\n",
      "/scratch2/lkara/venv-py3/lib/python3.6/site-packages/scape/gaincal.py:277: RuntimeWarning: invalid value encountered in true_divide\n",
      "  norm_jump = nd_delta_mu / nd_delta_sigma\n",
      "/scratch2/lkara/venv-py3/lib/python3.6/site-packages/scape/gaincal.py:277: RuntimeWarning: invalid value encountered in true_divide\n",
      "  norm_jump = nd_delta_mu / nd_delta_sigma\n",
      "/scratch2/lkara/venv-py3/lib/python3.6/site-packages/scape/gaincal.py:277: RuntimeWarning: invalid value encountered in true_divide\n",
      "  norm_jump = nd_delta_mu / nd_delta_sigma\n",
      "/scratch2/lkara/venv-py3/lib/python3.6/site-packages/scape/gaincal.py:277: RuntimeWarning: invalid value encountered in true_divide\n",
      "  norm_jump = nd_delta_mu / nd_delta_sigma\n"
     ]
    },
    {
     "name": "stdout",
     "output_type": "stream",
     "text": [
      "WARNING: Retrying (Retry(total=9, connect=2, read=1, redirect=None, status=0)) after connection broken by 'ProtocolError('Connection aborted.', RemoteDisconnected('Remote end closed connection without response',))': /1659787590-sdp-l0/correlator_data/00124_00512_00000.npy\n"
     ]
    },
    {
     "name": "stderr",
     "output_type": "stream",
     "text": [
      "/scratch2/lkara/venv-py3/lib/python3.6/site-packages/scape/gaincal.py:277: RuntimeWarning: invalid value encountered in true_divide\n",
      "  norm_jump = nd_delta_mu / nd_delta_sigma\n"
     ]
    },
    {
     "name": "stdout",
     "output_type": "stream",
     "text": [
      "WARNING: Retrying (Retry(total=9, connect=2, read=1, redirect=None, status=0)) after connection broken by 'ProtocolError('Connection aborted.', RemoteDisconnected('Remote end closed connection without response',))': /1659787590-sdp-l0/correlator_data/00218_00000_00000.npy\n"
     ]
    },
    {
     "name": "stderr",
     "output_type": "stream",
     "text": [
      "/scratch2/lkara/venv-py3/lib/python3.6/site-packages/scape/gaincal.py:277: RuntimeWarning: invalid value encountered in true_divide\n",
      "  norm_jump = nd_delta_mu / nd_delta_sigma\n"
     ]
    }
   ],
   "source": [
    "nd_model ='katconfig/user/noise-diode-models/mkat'\n",
    "angle, temp, data, ants = data_cal(rdb, nd_model, 'h')\n"
   ]
  },
  {
   "cell_type": "code",
   "execution_count": 6,
   "metadata": {},
   "outputs": [],
   "source": [
    "import pandas as pd\n",
    "\n",
    "df = pd.DataFrame.from_dict(angle)\n",
    "df1 = pd.DataFrame.from_dict(temp)\n",
    "\n",
    "df.to_csv (r'Uband_angle.csv', index = False, header=True)\n",
    "df1.to_csv (r'Uband_temp.csv', index = False, header=True)"
   ]
  },
  {
   "cell_type": "code",
   "execution_count": 28,
   "metadata": {},
   "outputs": [],
   "source": [
    "%store -r temp"
   ]
  },
  {
   "cell_type": "code",
   "execution_count": 30,
   "metadata": {},
   "outputs": [
    {
     "name": "stdout",
     "output_type": "stream",
     "text": [
      "Stored 'temp' (dict)\n"
     ]
    }
   ],
   "source": [
    "%store temp"
   ]
  },
  {
   "cell_type": "code",
   "execution_count": 31,
   "metadata": {},
   "outputs": [
    {
     "name": "stdout",
     "output_type": "stream",
     "text": [
      "Stored 'angle' (function)\n"
     ]
    }
   ],
   "source": [
    "%store angle"
   ]
  },
  {
   "cell_type": "code",
   "execution_count": 13,
   "metadata": {},
   "outputs": [],
   "source": [
    "from operator import itemgetter\n",
    "\n",
    "def ant_stats(ants, angle, temp):\n",
    "\n",
    "    ant_temp = []\n",
    "    ant_angle = []\n",
    "    ant_std = {}\n",
    "    ant_mean = {}\n",
    "    for ant in ants:\n",
    "        ant_std[ant] = std(temp[ant])\n",
    "        ant_mean[ant] = mean(temp[ant])\n",
    "        ant_temp.append(temp[ant])\n",
    "        ant_angle.append(angle[ant])\n",
    "    \n",
    "    \n",
    "    bin_temp = []\n",
    "    bin_angle = []\n",
    "    for i in range(178):\n",
    "        bin_temp.append(list(map(itemgetter(i), ant_temp)))\n",
    "        bin_angle.append(list(map(itemgetter(i), ant_angle)))\n",
    "\n",
    "    mean_temp = []\n",
    "    std_temp = []\n",
    "    mean_angle = []\n",
    "    for ind in range(178):\n",
    "        m_t = mean(bin_temp[ind])\n",
    "        s_t = std(bin_temp[ind])\n",
    "        m_a = mean(bin_angle[ind])\n",
    "        \n",
    "        mean_temp.append(m_t)\n",
    "        std_temp.append(s_t)\n",
    "        mean_angle.append(m_a)\n",
    "        \n",
    "    mean_temp = array(mean_temp)\n",
    "    std_temp = array(std_temp)\n",
    "    mean_angle = array(mean_angle)\n",
    "        \n",
    "    return mean_temp, std_temp, mean_angle\n"
   ]
  },
  {
   "cell_type": "code",
   "execution_count": null,
   "metadata": {},
   "outputs": [],
   "source": []
  },
  {
   "cell_type": "code",
   "execution_count": 22,
   "metadata": {},
   "outputs": [],
   "source": [
    "nbins     = 20\n",
    "ants = [rdb.ants[i].name for i in range(61)]\n",
    "ants.remove('m060')\n",
    "ants.remove('m024')\n",
    "mean_temp, std_temp, mean_angle = ant_stats(ants, angle, temp)\n",
    "\n",
    "#creating list of zeros using bin as size[x-values, y-values, standard deviation values]\n",
    "xv       = zeros(nbins)\n",
    "yv       = zeros(nbins)\n",
    "sv       = zeros(nbins)\n",
    "\n",
    "#calculating stats\n",
    "mean_temp, std_temp, mean_angle = ant_stats(ants, angle, temp)\n",
    "\n",
    "#creating values representing the x-axis \n",
    "bins     = linspace(min(mean_angle),max(mean_angle), nbins)\n",
    "#print(bins)\n",
    "\n",
    "#returing the indexes of all the values according to the binning\n",
    "angle_ind  = digitize(mean_angle, bins) -1\n",
    "#print(angle_ind)"
   ]
  },
  {
   "cell_type": "code",
   "execution_count": 23,
   "metadata": {},
   "outputs": [],
   "source": [
    "#extracting all the values for each bin\n",
    "dat = []\n",
    "for k in range(nbins):\n",
    "    xv[k] = mean(mean_angle[angle_ind==k])\n",
    "    yv[k] = mean(mean_temp[angle_ind==k])\n",
    "    sv[k] = std(mean_temp[angle_ind==k])\n",
    "\n",
    "    dat.append([xv[k], yv[k], sv[k]])\n",
    "dat = array(dat)"
   ]
  },
  {
   "cell_type": "code",
   "execution_count": 24,
   "metadata": {},
   "outputs": [
    {
     "name": "stdout",
     "output_type": "stream",
     "text": [
      "[ 0.52979976  1.55596182  2.5825397   3.57114434  4.65735648  5.64651507\n",
      "  6.70059699  7.75356073  8.80535229  9.7903104  10.77411494 11.82225445\n",
      " 12.8689916  13.9142951  14.95811917 16.00038132 17.04104435 18.08003827\n",
      " 19.05199873 19.5640059 ]\n",
      "[418.50805664 378.76010132 210.87713623  60.31176376  25.9603672\n",
      "  20.91539192  18.80519867  18.05500412  17.40987778  16.86844254\n",
      "  16.19041824  16.43437386  17.30173683  17.75116158  17.34661865\n",
      "  16.61670303  16.585495    16.57618332  16.78103065  16.57212067]\n",
      "[5.35756767e-01 4.98120918e+01 5.91082077e+01 1.66536217e+01\n",
      " 3.26309991e+00 7.74815679e-01 3.63762945e-01 2.80339360e-01\n",
      " 1.82915375e-01 2.23259211e-01 1.42888859e-01 2.52426803e-01\n",
      " 3.73081237e-01 1.54655054e-01 1.89873874e-01 1.00459166e-01\n",
      " 3.35825756e-02 8.27440694e-02 7.29766414e-02 0.00000000e+00]\n"
     ]
    }
   ],
   "source": [
    "print(xv)\n",
    "print(yv)\n",
    "print(sv)"
   ]
  },
  {
   "cell_type": "code",
   "execution_count": 32,
   "metadata": {},
   "outputs": [
    {
     "name": "stdout",
     "output_type": "stream",
     "text": [
      "Q1 quantile :  16.773065090179443\n",
      "Q2 quantile :  17.90839195251465\n",
      "The median is :  104.77171\n"
     ]
    },
    {
     "ename": "TypeError",
     "evalue": "'function' object is not subscriptable",
     "output_type": "error",
     "traceback": [
      "\u001b[0;31m---------------------------------------------------------------------------\u001b[0m",
      "\u001b[0;31mTypeError\u001b[0m                                 Traceback (most recent call last)",
      "\u001b[0;32m<ipython-input-32-7fc77f516bf3>\u001b[0m in \u001b[0;36m<module>\u001b[0;34m\u001b[0m\n\u001b[1;32m     23\u001b[0m \u001b[0;31m#axhline(y = q3, color='y', linestyle='--', label=\"Q3\")\u001b[0m\u001b[0;34m\u001b[0m\u001b[0;34m\u001b[0m\u001b[0;34m\u001b[0m\u001b[0m\n\u001b[1;32m     24\u001b[0m \u001b[0;32mfor\u001b[0m \u001b[0mindex\u001b[0m\u001b[0;34m,\u001b[0m \u001b[0mant\u001b[0m \u001b[0;32min\u001b[0m \u001b[0menumerate\u001b[0m\u001b[0;34m(\u001b[0m\u001b[0mants\u001b[0m\u001b[0;34m)\u001b[0m\u001b[0;34m:\u001b[0m\u001b[0;34m\u001b[0m\u001b[0;34m\u001b[0m\u001b[0m\n\u001b[0;32m---> 25\u001b[0;31m     \u001b[0mplot\u001b[0m\u001b[0;34m(\u001b[0m\u001b[0mangle\u001b[0m\u001b[0;34m[\u001b[0m\u001b[0mant\u001b[0m\u001b[0;34m]\u001b[0m\u001b[0;34m,\u001b[0m \u001b[0mtemp\u001b[0m\u001b[0;34m[\u001b[0m\u001b[0mant\u001b[0m\u001b[0;34m]\u001b[0m\u001b[0;34m,\u001b[0m \u001b[0;34m\"*c\"\u001b[0m\u001b[0;34m,\u001b[0m \u001b[0malpha\u001b[0m\u001b[0;34m=\u001b[0m\u001b[0;36m0.05\u001b[0m\u001b[0;34m)\u001b[0m\u001b[0;34m\u001b[0m\u001b[0;34m\u001b[0m\u001b[0m\n\u001b[0m\u001b[1;32m     26\u001b[0m     \u001b[0mtext\u001b[0m\u001b[0;34m(\u001b[0m\u001b[0;36m16\u001b[0m\u001b[0;34m,\u001b[0m \u001b[0;36m45\u001b[0m\u001b[0;34m,\u001b[0m \u001b[0;34m'Q1 = 16.77 K'\u001b[0m\u001b[0;34m,\u001b[0m \u001b[0mfontsize\u001b[0m \u001b[0;34m=\u001b[0m \u001b[0;36m15\u001b[0m\u001b[0;34m,\u001b[0m \u001b[0mcolor\u001b[0m \u001b[0;34m=\u001b[0m \u001b[0;34m'g'\u001b[0m\u001b[0;34m)\u001b[0m\u001b[0;34m\u001b[0m\u001b[0;34m\u001b[0m\u001b[0m\n\u001b[1;32m     27\u001b[0m     \u001b[0mtext\u001b[0m\u001b[0;34m(\u001b[0m\u001b[0;36m16\u001b[0m\u001b[0;34m,\u001b[0m \u001b[0;36m43\u001b[0m\u001b[0;34m,\u001b[0m \u001b[0;34m'Median = 17.90 K'\u001b[0m\u001b[0;34m,\u001b[0m \u001b[0mfontsize\u001b[0m \u001b[0;34m=\u001b[0m \u001b[0;36m15\u001b[0m\u001b[0;34m,\u001b[0m \u001b[0mcolor\u001b[0m \u001b[0;34m=\u001b[0m \u001b[0;34m'm'\u001b[0m\u001b[0;34m)\u001b[0m\u001b[0;34m\u001b[0m\u001b[0;34m\u001b[0m\u001b[0m\n",
      "\u001b[0;31mTypeError\u001b[0m: 'function' object is not subscriptable"
     ]
    },
    {
     "data": {
      "image/png": "[encoded data removed]",
      "text/plain": [
       "<Figure size 1440x720 with 1 Axes>"
      ]
     },
     "metadata": {
      "needs_background": "light"
     },
     "output_type": "display_data"
    }
   ],
   "source": [
    "ants = [rdb.ants[i].name for i in range(61)]\n",
    "ants.remove('m060')\n",
    "ants.remove('m024')\n",
    "q1 = np.quantile(mean_temp, .25)\n",
    "print(\"Q1 quantile : \", q1) \n",
    "q2 = np.quantile(mean_temp, .50)\n",
    "print(\"Q2 quantile : \", q2 ) \n",
    "#q3 = np.quantile(mean_temp, .75)\n",
    "#print(\"Q3 quantile : \", q3)\n",
    "\n",
    "figure(figsize=(20, 10))\n",
    "subplots_adjust(hspace=0.5)\n",
    "\n",
    "median_ = median(mean_temp)\n",
    "print(\"The median is : \", mean(mean_temp))\n",
    "\n",
    "pol = 'h'\n",
    "\n",
    "plot(mean_angle, mean_temp, \"-k\", label='average', linewidth=3)\n",
    "errorbar(xv, yv, sv, fmt='ks',lw=2,capsize=4, capthick=2, zorder=3, mfc='b', mec='black',ecolor='r')\n",
    "axhline(y = q1, color='g', linestyle='--', label=\"Q1\")\n",
    "axhline(y = q2, color='m', linestyle='--', label=\"Median\")\n",
    "#axhline(y = q3, color='y', linestyle='--', label=\"Q3\")\n",
    "for index, ant in enumerate(ants):\n",
    "    plot(angle[ant], temp[ant], \"*c\", alpha=0.05)\n",
    "    text(16, 45, 'Q1 = 16.77 K', fontsize = 15, color = 'g')\n",
    "    text(16, 43, 'Median = 17.90 K', fontsize = 15, color = 'm')\n",
    "    #text(8, 41, 'Q3 = 37.17 K', fontsize = 15, color = 'y')\n",
    "#     fill_between(mean_angle, mean_temp-std_temp, mean_temp+std_temp,\n",
    "#                  facecolor=\"orange\", # The fill color\n",
    "#                  color='blue',       # The outline color\n",
    "#                  alpha=0.2)\n",
    "    #ylim(None, 50)\n",
    "    #xlim(None, 20)\n",
    "    xlabel('Seperation[degrees]', fontsize=20)\n",
    "    ylabel('Temperature[K]', fontsize=20)\n",
    "    title('System temperature of MeerKAT in proximity to the Sun', fontsize=30)\n",
    "    legend(loc='center left', bbox_to_anchor=(1, 0.5))\n",
    "grid()\n",
    "show()"
   ]
  },
  {
   "cell_type": "code",
   "execution_count": null,
   "metadata": {},
   "outputs": [],
   "source": []
  }
 ],
 "metadata": {
  "kernelspec": {
   "display_name": "venv-py3",
   "language": "python",
   "name": "venv-py3"
  },
  "language_info": {
   "codemirror_mode": {
    "name": "ipython",
    "version": 3
   },
   "file_extension": ".py",
   "mimetype": "text/x-python",
   "name": "python",
   "nbconvert_exporter": "python",
   "pygments_lexer": "ipython3",
   "version": "3.6.9"
  }
 },
 "nbformat": 4,
 "nbformat_minor": 4
}
