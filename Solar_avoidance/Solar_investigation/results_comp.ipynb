{
 "cells": [
  {
   "cell_type": "code",
   "execution_count": 1,
   "metadata": {},
   "outputs": [
    {
     "name": "stdout",
     "output_type": "stream",
     "text": [
      "Populating the interactive namespace from numpy and matplotlib\n",
      "WARNING: PyFITS was not found - FITS creation will be disabled\n"
     ]
    }
   ],
   "source": [
    "import os\n",
    "import katdal\n",
    "import katpoint\n",
    "%pylab inline\n",
    "import scape\n",
    "import string\n",
    "import time\n",
    "import pandas as pd\n",
    "import logging\n",
    "logging.basicConfig()\n",
    "logging.getLogger().setLevel(logging.WARNING)"
   ]
  },
  {
   "cell_type": "code",
   "execution_count": 2,
   "metadata": {},
   "outputs": [],
   "source": [
    "name1 = '1657625710'\n",
    "name2 = '1659787590'\n",
    "name3 = '1659873530'\n",
    "name4 = '1659865364'\n",
    "\n",
    "file_1=str('http://archive-gw-1.kat.ac.za:7480/'+name1+'/'+name1+'_sdp_l0.full.rdb')\n",
    "file_2=str('http://archive-gw-1.kat.ac.za:7480/'+name2+'/'+name2+'_sdp_l0.full.rdb')\n",
    "file_3=str('http://archive-gw-1.kat.ac.za:7480/'+name3+'/'+name3+'_sdp_l0.full.rdb')\n",
    "file_4=str('http://archive-gw-1.kat.ac.za:7480/'+name4+'/'+name4+'_sdp_l0.full.rdb')\n",
    "\n",
    "rdb1=katdal.open(file_1)\n",
    "rdb2=katdal.open(file_2)\n",
    "rdb3=katdal.open(file_3)\n",
    "rdb4=katdal.open(file_4)"
   ]
  },
  {
   "cell_type": "code",
   "execution_count": 3,
   "metadata": {},
   "outputs": [],
   "source": [
    "angle_L = pd.read_csv('Lband_angle.csv')\n",
    "angle_U = pd.read_csv('Uband_angle.csv')\n",
    "angle_S0 = pd.read_csv('S0band_angle.csv')\n",
    "angle_S4 = pd.read_csv('S4band_angle.csv')\n",
    "\n",
    "temp_L = pd.read_csv('Lband_temp.csv')\n",
    "temp_U = pd.read_csv('Uband_temp.csv')\n",
    "temp_S0 = pd.read_csv('S0band_temp.csv')\n",
    "temp_S4 = pd.read_csv('S4band_temp.csv')"
   ]
  },
  {
   "cell_type": "code",
   "execution_count": 4,
   "metadata": {},
   "outputs": [
    {
     "name": "stdout",
     "output_type": "stream",
     "text": [
      "<class 'pandas.core.frame.DataFrame'>\n"
     ]
    }
   ],
   "source": [
    "print(type(temp_L))"
   ]
  },
  {
   "cell_type": "code",
   "execution_count": 5,
   "metadata": {},
   "outputs": [
    {
     "name": "stdout",
     "output_type": "stream",
     "text": [
      "['m000', 'm001', 'm003', 'm005', 'm006', 'm009', 'm010', 'm015', 'm018', 'm019', 'm023', 'm025', 'm027', 'm029', 'm030', 'm031', 'm032', 'm038', 'm040', 'm042', 'm046', 'm047', 'm051', 'm052', 'm054', 'm059']\n"
     ]
    }
   ],
   "source": [
    "ants_L = [rdb1.ants[i].name for i in range(63)]\n",
    "ants_L.remove('m060')\n",
    "\n",
    "ants_U = [rdb2.ants[i].name for i in range(61)]\n",
    "ants_U.remove('m060')\n",
    "ants_U.remove('m024')\n",
    "\n",
    "ants_S0 = [rdb3.ants[i].name for i in range(58)]\n",
    "rm =['m017', 'm022', 'm028', 'm033', 'm034', 'm035', 'm036', 'm037', 'm044', 'm045', \n",
    "     'm049', 'm053', 'm055', 'm056', 'm057', 'm061', 'm062', 'm063']\n",
    "for index, ant in enumerate(ants_S0):\n",
    "    if ant in rm:\n",
    "        ants_S0.remove(ant)\n",
    "ants_S0.remove('m034')\n",
    "ants_S0.remove('m045')\n",
    "ants_S0.remove('m056')\n",
    "ants_S0.remove('m062')\n",
    "ants_S0.remove('m060')\n",
    "ants_S0.remove('m002')\n",
    "ants_S0.remove('m024')\n",
    "ants_S0.remove('m026')\n",
    "ants_S0.remove('m050')\n",
    "ants_S0.remove('m058')\n",
    "ants_S0.remove('m012')\n",
    "ants_S0.remove('m014')\n",
    "ants_S0.remove('m016')\n",
    "ants_S0.remove('m013')\n",
    "ants_S0.remove('m020')\n",
    "ants_S0.remove('m041')\n",
    "ants_S0.remove('m036')\n",
    "ants_S0.remove('m004')\n",
    "ants_S0.remove('m007')\n",
    "\n",
    "\n",
    "ants_S4 = [rdb4.ants[i].name for i in range(58)]\n",
    "\n",
    "ants_S4.remove('m060')\n",
    "ants_S4.remove('m002')\n",
    "ants_S4.remove('m026')\n",
    "ants_S4.remove('m050')\n",
    "ants_S4.remove('m058')\n",
    "#ants_S4.remove('m007')\n",
    "#ants_S4.remove('m013')\n",
    "#ants_S4.remove('m020')\n",
    "#ants_S4.remove('m041')\n",
    "#ants_S4.remove('m056')\n",
    "#ants_S4.remove('m004')\n",
    "\n",
    "print(ants_S0)"
   ]
  },
  {
   "cell_type": "code",
   "execution_count": 6,
   "metadata": {},
   "outputs": [],
   "source": [
    "from operator import itemgetter\n",
    "\n",
    "def ant_stats(ants, angle, temp):\n",
    "\n",
    "    ant_temp = []\n",
    "    ant_angle = []\n",
    "    ant_std = {}\n",
    "    ant_mean = {}\n",
    "    for ant in ants:\n",
    "        ant_std[ant] = std(temp[ant])\n",
    "        ant_mean[ant] = mean(temp[ant])\n",
    "        ant_temp.append(temp[ant])\n",
    "        ant_angle.append(angle[ant])\n",
    "    \n",
    "    \n",
    "    bin_temp = []\n",
    "    bin_angle = []\n",
    "    for i in range(178):\n",
    "        bin_temp.append(list(map(itemgetter(i), ant_temp)))\n",
    "        bin_angle.append(list(map(itemgetter(i), ant_angle)))\n",
    "\n",
    "    mean_temp = []\n",
    "    std_temp = []\n",
    "    mean_angle = []\n",
    "    for ind in range(178):\n",
    "        m_t = mean(bin_temp[ind])\n",
    "        s_t = std(bin_temp[ind])\n",
    "        m_a = mean(bin_angle[ind])\n",
    "        \n",
    "        mean_temp.append(m_t)\n",
    "        std_temp.append(s_t)\n",
    "        mean_angle.append(m_a)\n",
    "        \n",
    "    mean_temp = array(mean_temp)\n",
    "    std_temp = array(std_temp)\n",
    "    mean_angle = array(mean_angle)\n",
    "        \n",
    "    return mean_temp, std_temp, mean_angle\n"
   ]
  },
  {
   "cell_type": "code",
   "execution_count": 7,
   "metadata": {},
   "outputs": [],
   "source": [
    "nbins     = 20\n",
    "\n",
    "#creating list of zeros using bin as size[x-values, y-values, standard deviation values]\n",
    "xv_L       = zeros(nbins)\n",
    "yv_L       = zeros(nbins)\n",
    "sv_L       = zeros(nbins)\n",
    "\n",
    "xv_U       = zeros(nbins)\n",
    "yv_U       = zeros(nbins)\n",
    "sv_U       = zeros(nbins)\n",
    "\n",
    "#calculating stats\n",
    "L_mean_temp, L_std_temp, L_mean_angle = ant_stats(ants_L, angle_L, temp_L)\n",
    "U_mean_temp, U_std_temp, U_mean_angle = ant_stats(ants_U, angle_U, temp_U)\n",
    "S0_mean_temp, S0_std_temp, S0_mean_angle = ant_stats(ants_S0, angle_S0, temp_S0)\n",
    "S4_mean_temp, S4_std_temp, S4_mean_angle = ant_stats(ants_S4, angle_S4, temp_S4)\n",
    "\n",
    "\n",
    "#creating values representing the x-axis \n",
    "bins_L     = linspace(min(L_mean_angle),max(L_mean_angle), nbins)\n",
    "bins_U     = linspace(min(U_mean_angle),max(U_mean_angle), nbins)\n",
    "\n",
    "#print(bins)\n",
    "\n",
    "#returning the indexes of all the values according to the binning\n",
    "angle_ind_L  = digitize(L_mean_angle, bins_L) -1\n",
    "angle_ind_U  = digitize(U_mean_angle, bins_U) -1\n",
    "\n",
    "#print(angle_ind)"
   ]
  },
  {
   "cell_type": "code",
   "execution_count": 8,
   "metadata": {},
   "outputs": [],
   "source": [
    "#extracting all the values for each bin\n",
    "for k in range(nbins):\n",
    "    xv_L[k] = mean(L_mean_angle[angle_ind_L==k])\n",
    "    yv_L[k] = mean(L_mean_temp[angle_ind_L==k])\n",
    "    sv_L[k] = std(L_mean_temp[angle_ind_L==k])\n",
    "    \n",
    "for l in range(nbins):\n",
    "    xv_L[l] = mean(U_mean_angle[angle_ind_U==l])\n",
    "    yv_L[l] = mean(U_mean_temp[angle_ind_U==l])\n",
    "    sv_L[l] = std(U_mean_temp[angle_ind_U==l])"
   ]
  },
  {
   "cell_type": "code",
   "execution_count": 21,
   "metadata": {},
   "outputs": [
    {
     "name": "stdout",
     "output_type": "stream",
     "text": [
      "19.543408570405944\n",
      "16.91063166054085\n",
      "22.13137241054451\n",
      "16.10505193269027\n",
      "4.5057780622810215\n",
      "6.89815000457529\n",
      "5.201133288749927 0.08202540586095185\n",
      "3.8645172407068253 0.014266883349276773\n"
     ]
    }
   ],
   "source": [
    "# Consider the above example data again\n",
    "from scipy import interpolate\n",
    "\n",
    "xi_L = L_mean_angle \n",
    "yi_L = L_mean_temp\n",
    "\n",
    "xi_U = U_mean_angle \n",
    "yi_U = U_mean_temp\n",
    "\n",
    "xi_S0 = S0_mean_angle \n",
    "yi_S0 = S0_mean_temp\n",
    "\n",
    "xi_S4 = S4_mean_angle \n",
    "yi_S4 = S4_mean_temp\n",
    "\n",
    "\n",
    "mean_L = np.mean(yi_L[yi_L<median(yi_L)])\n",
    "mean_U = np.mean(yi_U[yi_U<median(yi_U)])\n",
    "mean_S0 = np.mean(yi_S0[yi_S0<median(yi_S0)])\n",
    "mean_S4 = np.mean(yi_S4[yi_S4<median(yi_S4)])\n",
    "\n",
    "std_L = np.std(yi_L[yi_L<median(yi_L)])\n",
    "std_U = np.std(yi_U[yi_U<median(yi_U)])\n",
    "std_S0 = np.std(yi_S0[yi_S0<median(yi_S0)])\n",
    "std_S4 = np.std(yi_S4[yi_S4<median(yi_S4)])\n",
    "\n",
    "\n",
    "\n",
    "\n",
    "print(mean_L) \n",
    "print(mean_U)\n",
    "print(mean_S0) \n",
    "print(mean_S4) \n",
    " \n",
    "f_L = interpolate.interp1d(yi_L, xi_L, kind=\"nearest\",axis=0)\n",
    "f_U = interpolate.interp1d(yi_U, xi_U, kind=\"next\",axis=0)\n",
    "f_S0 = interpolate.interp1d(yi_S0, xi_S0, kind=\"quadratic\",axis=0)\n",
    "f_S4 = interpolate.interp1d(yi_S4, xi_S4, kind=\"cubic\",axis=0)\n",
    "\n",
    "\n",
    "xnew_L = f_L(mean_L+3*std_L)\n",
    "xnew_U = f_U(mean_U+3*std_U)\n",
    "xnew_S0 = f_S0(mean_S0+0.25)\n",
    "xnew_S4 = f_S4(mean_S4+0.25)\n",
    "\n",
    "print(xnew_L)\n",
    "print(xnew_U)\n",
    "print(xnew_S0, std_S0)\n",
    "print(xnew_S4, std_S4)"
   ]
  },
  {
   "cell_type": "code",
   "execution_count": null,
   "metadata": {},
   "outputs": [],
   "source": [
    "\n"
   ]
  },
  {
   "cell_type": "code",
   "execution_count": 10,
   "metadata": {},
   "outputs": [
    {
     "data": {
      "image/png": "[encoded data removed]",
      "text/plain": [
       "<Figure size 1440x720 with 1 Axes>"
      ]
     },
     "metadata": {
      "needs_background": "light"
     },
     "output_type": "display_data"
    }
   ],
   "source": [
    "figure(figsize=(20, 10))\n",
    "subplots_adjust(hspace=0.5)\n",
    "\n",
    "pol = 'h'\n",
    "\n",
    "plot(L_mean_angle, L_mean_temp, \"-k\", label='L-band', linewidth=3)\n",
    "#errorbar(xv_L, yv_L, sv_L, fmt='ks',lw=2,capsize=4, capthick=2, zorder=3, mfc='b', mec='black',ecolor='r')\n",
    "\n",
    "plot(U_mean_angle, U_mean_temp, \"-r\", label='UHF-band', linewidth=3)\n",
    "#errorbar(xv_U, yv_U, sv_U, fmt='ks',lw=2,capsize=4, capthick=2, zorder=3, mfc='b', mec='black',ecolor='r')\n",
    "\n",
    "plot(S0_mean_angle, S0_mean_temp, \"-g\", label='S0-band', linewidth=3)\n",
    "#plot(angle_S4, temp_S4, \".g\")\n",
    "plot(S4_mean_angle, S4_mean_temp, \"-b\", label='S4-band', linewidth=3)\n",
    "\n",
    "axvline(x = xnew_L, color='k', linestyle='--')\n",
    "axvline(x = xnew_U, color='r', linestyle='--')\n",
    "axvline(x = xnew_S0,  color='g', linestyle='--')\n",
    "axvline(x = xnew_S4,  color='b', linestyle='--')\n",
    "\n",
    "# axhline(y = median(yi_L), color='k', linestyle='--')\n",
    "# axhline(y = median(yi_U), color='r', linestyle='--')\n",
    "# axhline(y = median(yi_S0), color='g', linestyle='--')\n",
    "# axhline(y = median(yi_S4), color='b', linestyle='--')\n",
    "\n",
    "# axvspan(2.5, 4.5, 0,0.38,color='b',alpha=0.3)\n",
    "# axvspan(4.5, 5.0, 0,0.5,color='g',alpha=0.3)\n",
    "# axvspan(5, 7.5, 0,0.47,color='k',alpha=0.3)\n",
    "# axvspan(7.5, 10, 0,0.40,color='r',alpha=0.3)\n",
    "\n",
    "ylim(10, 50)\n",
    "xlim(None, 10)\n",
    "\n",
    "#ylim(0, )\n",
    "#xlim(None, 15)\n",
    "title('System temperature of MeerKAT in proximity to the Sun', fontsize=30)\n",
    "xlabel('Seperation[degrees]', fontsize=20)\n",
    "ylabel('Temperature[K]', fontsize=20)\n",
    "legend(loc='center left', bbox_to_anchor=(1, 0.5), fontsize=20)\n",
    "grid()\n",
    "show()"
   ]
  },
  {
   "cell_type": "code",
   "execution_count": 11,
   "metadata": {},
   "outputs": [
    {
     "name": "stdout",
     "output_type": "stream",
     "text": [
      "16.065389194915255\n"
     ]
    }
   ],
   "source": [
    "print(min(U_mean_temp))"
   ]
  },
  {
   "cell_type": "code",
   "execution_count": 12,
   "metadata": {},
   "outputs": [
    {
     "ename": "NameError",
     "evalue": "name 'rdb' is not defined",
     "output_type": "error",
     "traceback": [
      "\u001b[0;31m---------------------------------------------------------------------------\u001b[0m",
      "\u001b[0;31mNameError\u001b[0m                                 Traceback (most recent call last)",
      "\u001b[0;32m<ipython-input-12-46e2eaff6e89>\u001b[0m in \u001b[0;36m<module>\u001b[0;34m\u001b[0m\n\u001b[1;32m      2\u001b[0m \u001b[0;34m\u001b[0m\u001b[0m\n\u001b[1;32m      3\u001b[0m \u001b[0mpol\u001b[0m \u001b[0;34m=\u001b[0m \u001b[0;34m'V'\u001b[0m\u001b[0;34m\u001b[0m\u001b[0;34m\u001b[0m\u001b[0m\n\u001b[0;32m----> 4\u001b[0;31m \u001b[0mant\u001b[0m \u001b[0;34m=\u001b[0m \u001b[0mrdb\u001b[0m\u001b[0;34m.\u001b[0m\u001b[0mants\u001b[0m\u001b[0;34m[\u001b[0m\u001b[0;36m0\u001b[0m\u001b[0;34m]\u001b[0m\u001b[0;34m\u001b[0m\u001b[0;34m\u001b[0m\u001b[0m\n\u001b[0m\u001b[1;32m      5\u001b[0m \u001b[0;34m\u001b[0m\u001b[0m\n\u001b[1;32m      6\u001b[0m \u001b[0mnd_v\u001b[0m \u001b[0;34m=\u001b[0m \u001b[0;34m'/home/tmangena/jupyter_analysis/rx.l.4033.v.csv'\u001b[0m\u001b[0;34m\u001b[0m\u001b[0;34m\u001b[0m\u001b[0m\n",
      "\u001b[0;31mNameError\u001b[0m: name 'rdb' is not defined"
     ]
    }
   ],
   "source": [
    "import pandas as pd\n",
    "\n",
    "pol = 'V'\n",
    "ant = rdb.ants[0]\n",
    "\n",
    "nd_v = '/home/tmangena/jupyter_analysis/rx.l.4033.v.csv'\n",
    "nd_h = '/home/tmangena/jupyter_analysis/rx.l.4033.h.csv'\n",
    "\n",
    "dataset = scape.DataSet(rdb, baseline=\"%s\" % (ant.name,), nd_h_model=nd_h, nd_v_model=nd_v)\n",
    "print(\"This is type for dataset\", type(dataset))\n",
    "print(\"This is dataset\", dataset)\n",
    "\n",
    "data1 = dataset.select(flagkeep='~nd_on')\n",
    "print(\"This is type for data1\", type(data1))\n",
    "print(\"This is data1\", data1)\n",
    "anle = {}\n",
    "temp = {}\n",
    "\n",
    "angle = np.sqrt(np.sum((np.degrees(data1.scans[0].target_coords))**2,axis=0))\n",
    "temp[ant.name] = data1.scans[0].pol(2*pol.upper()).mean(axis=1) \n",
    "\n",
    "df = pd.DataFrame.from_dict(angle)\n",
    "df1 = pd.DataFrame.from_dict(temp)\n",
    "\n",
    "df.to_csv (r'angle.csv', index = False, header=True)\n",
    "df1.to_csv (r'temp.csv', index = False, header=True)"
   ]
  },
  {
   "cell_type": "code",
   "execution_count": null,
   "metadata": {},
   "outputs": [],
   "source": [
    "t = dataset.scans[1].data[:,:,0]\n",
    "#f = dataset.scans[1].data[0,:,0]\n",
    "\n",
    "print(t.max(), t.min())\n",
    "#print(f.max(), f.min())\n",
    "plot(np.average(t, axis=1))\n",
    "#plot(t)\n",
    "#plot(np.average(c, axis=1))\n",
    "show()"
   ]
  },
  {
   "cell_type": "code",
   "execution_count": null,
   "metadata": {},
   "outputs": [],
   "source": [
    "t = dataset.scans[1].data[:,0,0]\n",
    "print(t.max(), t.min())\n",
    "plot(t)\n",
    "show()"
   ]
  },
  {
   "cell_type": "code",
   "execution_count": null,
   "metadata": {},
   "outputs": [],
   "source": [
    "from operator import itemgetter\n",
    "\n",
    "\n",
    "\n",
    "def ant_stats(ants, angle, temp):\n",
    "\n",
    "    ant_temp = []\n",
    "    ant_angle = []\n",
    "    ant_std = {}\n",
    "    ant_mean = {}\n",
    "    for ant in ants:\n",
    "        ant_std[ant] = std(temp[ant])\n",
    "        ant_mean[ant] = mean(temp[ant])\n",
    "        ant_temp.append(temp[ant])\n",
    "        ant_angle.append(angle[ant])\n",
    "    \n",
    "    \n",
    "    bin_temp = []\n",
    "    bin_angle = []\n",
    "    for i in range(178):\n",
    "        bin_temp.append(list(map(itemgetter(i), ant_temp)))\n",
    "        bin_angle.append(list(map(itemgetter(i), ant_angle)))\n",
    "\n",
    "    mean_temp = []\n",
    "    std_temp = []\n",
    "    mean_angle = []\n",
    "    for ind in range(178):\n",
    "        m_t = mean(bin_temp[ind])\n",
    "        s_t = std(bin_temp[ind])\n",
    "        m_a = mean(bin_angle[ind])\n",
    "        \n",
    "        mean_temp.append(m_t)\n",
    "        std_temp.append(s_t)\n",
    "        mean_angle.append(m_a)\n",
    "        \n",
    "    mean_temp = array(mean_temp)\n",
    "    std_temp = array(std_temp)\n",
    "    mean_angle = array(mean_angle)\n",
    "        \n",
    "    return mean_temp, std_temp, mean_angle\n"
   ]
  },
  {
   "cell_type": "code",
   "execution_count": 13,
   "metadata": {},
   "outputs": [
    {
     "ename": "NameError",
     "evalue": "name 'rdb' is not defined",
     "output_type": "error",
     "traceback": [
      "\u001b[0;31m---------------------------------------------------------------------------\u001b[0m",
      "\u001b[0;31mNameError\u001b[0m                                 Traceback (most recent call last)",
      "\u001b[0;32m<ipython-input-13-23cd12ea1853>\u001b[0m in \u001b[0;36m<module>\u001b[0;34m\u001b[0m\n\u001b[1;32m      1\u001b[0m \u001b[0mangle_\u001b[0m \u001b[0;34m=\u001b[0m \u001b[0mpd\u001b[0m\u001b[0;34m.\u001b[0m\u001b[0mread_csv\u001b[0m\u001b[0;34m(\u001b[0m\u001b[0;34m'S4band_angle.csv'\u001b[0m\u001b[0;34m)\u001b[0m\u001b[0;34m\u001b[0m\u001b[0;34m\u001b[0m\u001b[0m\n\u001b[1;32m      2\u001b[0m \u001b[0mtemp_\u001b[0m \u001b[0;34m=\u001b[0m \u001b[0mpd\u001b[0m\u001b[0;34m.\u001b[0m\u001b[0mread_csv\u001b[0m\u001b[0;34m(\u001b[0m\u001b[0;34m'S4band_temp.csv'\u001b[0m\u001b[0;34m)\u001b[0m\u001b[0;34m\u001b[0m\u001b[0;34m\u001b[0m\u001b[0m\n\u001b[0;32m----> 3\u001b[0;31m \u001b[0mants\u001b[0m \u001b[0;34m=\u001b[0m \u001b[0;34m[\u001b[0m\u001b[0mrdb\u001b[0m\u001b[0;34m.\u001b[0m\u001b[0mants\u001b[0m\u001b[0;34m[\u001b[0m\u001b[0mi\u001b[0m\u001b[0;34m]\u001b[0m\u001b[0;34m.\u001b[0m\u001b[0mname\u001b[0m \u001b[0;32mfor\u001b[0m \u001b[0mi\u001b[0m \u001b[0;32min\u001b[0m \u001b[0mrange\u001b[0m\u001b[0;34m(\u001b[0m\u001b[0;36m58\u001b[0m\u001b[0;34m)\u001b[0m\u001b[0;34m]\u001b[0m\u001b[0;34m\u001b[0m\u001b[0;34m\u001b[0m\u001b[0m\n\u001b[0m\u001b[1;32m      4\u001b[0m \u001b[0;34m\u001b[0m\u001b[0m\n\u001b[1;32m      5\u001b[0m \u001b[0mants\u001b[0m\u001b[0;34m.\u001b[0m\u001b[0mremove\u001b[0m\u001b[0;34m(\u001b[0m\u001b[0;34m'm060'\u001b[0m\u001b[0;34m)\u001b[0m\u001b[0;34m\u001b[0m\u001b[0;34m\u001b[0m\u001b[0m\n",
      "\u001b[0;32m<ipython-input-13-23cd12ea1853>\u001b[0m in \u001b[0;36m<listcomp>\u001b[0;34m(.0)\u001b[0m\n\u001b[1;32m      1\u001b[0m \u001b[0mangle_\u001b[0m \u001b[0;34m=\u001b[0m \u001b[0mpd\u001b[0m\u001b[0;34m.\u001b[0m\u001b[0mread_csv\u001b[0m\u001b[0;34m(\u001b[0m\u001b[0;34m'S4band_angle.csv'\u001b[0m\u001b[0;34m)\u001b[0m\u001b[0;34m\u001b[0m\u001b[0;34m\u001b[0m\u001b[0m\n\u001b[1;32m      2\u001b[0m \u001b[0mtemp_\u001b[0m \u001b[0;34m=\u001b[0m \u001b[0mpd\u001b[0m\u001b[0;34m.\u001b[0m\u001b[0mread_csv\u001b[0m\u001b[0;34m(\u001b[0m\u001b[0;34m'S4band_temp.csv'\u001b[0m\u001b[0;34m)\u001b[0m\u001b[0;34m\u001b[0m\u001b[0;34m\u001b[0m\u001b[0m\n\u001b[0;32m----> 3\u001b[0;31m \u001b[0mants\u001b[0m \u001b[0;34m=\u001b[0m \u001b[0;34m[\u001b[0m\u001b[0mrdb\u001b[0m\u001b[0;34m.\u001b[0m\u001b[0mants\u001b[0m\u001b[0;34m[\u001b[0m\u001b[0mi\u001b[0m\u001b[0;34m]\u001b[0m\u001b[0;34m.\u001b[0m\u001b[0mname\u001b[0m \u001b[0;32mfor\u001b[0m \u001b[0mi\u001b[0m \u001b[0;32min\u001b[0m \u001b[0mrange\u001b[0m\u001b[0;34m(\u001b[0m\u001b[0;36m58\u001b[0m\u001b[0;34m)\u001b[0m\u001b[0;34m]\u001b[0m\u001b[0;34m\u001b[0m\u001b[0;34m\u001b[0m\u001b[0m\n\u001b[0m\u001b[1;32m      4\u001b[0m \u001b[0;34m\u001b[0m\u001b[0m\n\u001b[1;32m      5\u001b[0m \u001b[0mants\u001b[0m\u001b[0;34m.\u001b[0m\u001b[0mremove\u001b[0m\u001b[0;34m(\u001b[0m\u001b[0;34m'm060'\u001b[0m\u001b[0;34m)\u001b[0m\u001b[0;34m\u001b[0m\u001b[0;34m\u001b[0m\u001b[0m\n",
      "\u001b[0;31mNameError\u001b[0m: name 'rdb' is not defined"
     ]
    }
   ],
   "source": [
    "angle_ = pd.read_csv('S4band_angle.csv')\n",
    "temp_ = pd.read_csv('S4band_temp.csv')\n",
    "ants = [rdb.ants[i].name for i in range(58)]\n",
    "\n",
    "ants.remove('m060')\n",
    "ants.remove('m002')\n",
    "ants.remove('m004')\n",
    "ants.remove('m007')\n",
    "ants.remove('m013')\n",
    "ants.remove('m020')\n",
    "ants.remove('m024')\n",
    "ants.remove('m026')\n",
    "ants.remove('m041')\n",
    "ants.remove('m050')\n",
    "ants.remove('m056')\n",
    "ants.remove('m058')\n",
    "\n"
   ]
  },
  {
   "cell_type": "code",
   "execution_count": 14,
   "metadata": {},
   "outputs": [],
   "source": [
    "from operator import itemgetter\n",
    "\n",
    "\n",
    "\n",
    "def ant_stats(ants, angle, temp):\n",
    "\n",
    "    ant_temp = []\n",
    "    ant_angle = []\n",
    "    ant_std = {}\n",
    "    ant_mean = {}\n",
    "    for ant in ants:\n",
    "        ant_std[ant] = std(temp[ant])\n",
    "        ant_mean[ant] = mean(temp[ant])\n",
    "        ant_temp.append(temp[ant])\n",
    "        ant_angle.append(angle[ant])\n",
    "    \n",
    "    \n",
    "    bin_temp = []\n",
    "    bin_angle = []\n",
    "    for i in range(178):\n",
    "        bin_temp.append(list(map(itemgetter(i), ant_temp)))\n",
    "        bin_angle.append(list(map(itemgetter(i), ant_angle)))\n",
    "\n",
    "    mean_temp = []\n",
    "    std_temp = []\n",
    "    mean_angle = []\n",
    "    for ind in range(178):\n",
    "        m_t = mean(bin_temp[ind])\n",
    "        s_t = std(bin_temp[ind])\n",
    "        m_a = mean(bin_angle[ind])\n",
    "        \n",
    "        mean_temp.append(m_t)\n",
    "        std_temp.append(s_t)\n",
    "        mean_angle.append(m_a)\n",
    "        \n",
    "    mean_temp = array(mean_temp)\n",
    "    std_temp = array(std_temp)\n",
    "    mean_angle = array(mean_angle)\n",
    "        \n",
    "    return mean_temp, std_temp, mean_angle\n"
   ]
  },
  {
   "cell_type": "code",
   "execution_count": 15,
   "metadata": {},
   "outputs": [
    {
     "ename": "NameError",
     "evalue": "name 'ants' is not defined",
     "output_type": "error",
     "traceback": [
      "\u001b[0;31m---------------------------------------------------------------------------\u001b[0m",
      "\u001b[0;31mNameError\u001b[0m                                 Traceback (most recent call last)",
      "\u001b[0;32m<ipython-input-15-738a6c2116a4>\u001b[0m in \u001b[0;36m<module>\u001b[0;34m\u001b[0m\n\u001b[1;32m      7\u001b[0m \u001b[0;34m\u001b[0m\u001b[0m\n\u001b[1;32m      8\u001b[0m \u001b[0;31m#calculating stats\u001b[0m\u001b[0;34m\u001b[0m\u001b[0;34m\u001b[0m\u001b[0;34m\u001b[0m\u001b[0m\n\u001b[0;32m----> 9\u001b[0;31m \u001b[0mmean_temp\u001b[0m\u001b[0;34m,\u001b[0m \u001b[0mstd_temp\u001b[0m\u001b[0;34m,\u001b[0m \u001b[0mmean_angle\u001b[0m \u001b[0;34m=\u001b[0m \u001b[0mant_stats\u001b[0m\u001b[0;34m(\u001b[0m\u001b[0mants\u001b[0m\u001b[0;34m,\u001b[0m \u001b[0mangle_\u001b[0m\u001b[0;34m,\u001b[0m \u001b[0mtemp_\u001b[0m\u001b[0;34m)\u001b[0m\u001b[0;34m\u001b[0m\u001b[0;34m\u001b[0m\u001b[0m\n\u001b[0m\u001b[1;32m     10\u001b[0m \u001b[0;34m\u001b[0m\u001b[0m\n\u001b[1;32m     11\u001b[0m \u001b[0;31m#creating values representing the x-axis\u001b[0m\u001b[0;34m\u001b[0m\u001b[0;34m\u001b[0m\u001b[0;34m\u001b[0m\u001b[0m\n",
      "\u001b[0;31mNameError\u001b[0m: name 'ants' is not defined"
     ]
    }
   ],
   "source": [
    "nbins     = 20\n",
    "\n",
    "#creating list of zeros using bin as size[x-values, y-values, standard deviation values]\n",
    "xv       = zeros(nbins)\n",
    "yv       = zeros(nbins)\n",
    "sv       = zeros(nbins)\n",
    "\n",
    "#calculating stats\n",
    "mean_temp, std_temp, mean_angle = ant_stats(ants, angle_, temp_)\n",
    "\n",
    "#creating values representing the x-axis \n",
    "bins     = linspace(min(mean_angle),max(mean_angle), nbins)\n",
    "#print(bins)\n",
    "\n",
    "#returning the indexes of all the values according to the binning\n",
    "angle_ind  = digitize(mean_angle, bins) -1\n",
    "#print(angle_ind)"
   ]
  },
  {
   "cell_type": "code",
   "execution_count": null,
   "metadata": {},
   "outputs": [],
   "source": [
    "#extracting all the values for each bin\n",
    "dat = []\n",
    "for k in range(nbins):\n",
    "    xv[k] = mean(mean_angle[angle_ind==k])\n",
    "    yv[k] = mean(mean_temp[angle_ind==k])\n",
    "    sv[k] = std(mean_temp[angle_ind==k])\n",
    "\n",
    "    dat.append([xv[k], yv[k], sv[k]])\n",
    "dat = array(dat)"
   ]
  },
  {
   "cell_type": "code",
   "execution_count": null,
   "metadata": {},
   "outputs": [],
   "source": [
    "print(xv)\n",
    "print(yv)\n",
    "print(sv)"
   ]
  },
  {
   "cell_type": "code",
   "execution_count": null,
   "metadata": {},
   "outputs": [],
   "source": [
    "figure(figsize=(20, 10))\n",
    "subplots_adjust(hspace=0.5)\n",
    "\n",
    "median_ = median(mean_temp)\n",
    "#print(\"The mean is : \", mean(mean_temp))\n",
    "pol = 'h'\n",
    "\n",
    "plot(mean_angle, mean_temp, \"-k\", label='average', linewidth=3)\n",
    "errorbar(xv, yv, sv, fmt='ks',lw=2,capsize=4, capthick=2, zorder=3, mfc='b', mec='black',ecolor='r')\n",
    "for index, ant in enumerate(ants):\n",
    "    #plot(angle_[ant], temp_[ant], \"*c\", alpha=0.05)\n",
    "    text(8, 45, 'Q1 = 19.45 K', fontsize = 15, color = 'g')\n",
    "    text(8, 43, 'Median = 21.32 K', fontsize = 15, color = 'm')\n",
    "    ylim(None, 50)\n",
    "    xlim(None, 10)\n",
    "    xlabel('Seperation[degrees]', fontsize=20)\n",
    "    ylabel('Temperature[K]', fontsize=20)\n",
    "    title('System temperature of MeerKAT in proximity to the Sun', fontsize=30)\n",
    "    legend(loc='center left', bbox_to_anchor=(1, 0.5))\n",
    "grid()\n",
    "show()"
   ]
  },
  {
   "cell_type": "code",
   "execution_count": 16,
   "metadata": {},
   "outputs": [
    {
     "ename": "NameError",
     "evalue": "name 'rdb' is not defined",
     "output_type": "error",
     "traceback": [
      "\u001b[0;31m---------------------------------------------------------------------------\u001b[0m",
      "\u001b[0;31mNameError\u001b[0m                                 Traceback (most recent call last)",
      "\u001b[0;32m<ipython-input-16-7626f38c17a9>\u001b[0m in \u001b[0;36m<module>\u001b[0;34m\u001b[0m\n\u001b[1;32m      1\u001b[0m \u001b[0mangle_\u001b[0m \u001b[0;34m=\u001b[0m \u001b[0mpd\u001b[0m\u001b[0;34m.\u001b[0m\u001b[0mread_csv\u001b[0m\u001b[0;34m(\u001b[0m\u001b[0;34m'S4band_angle.csv'\u001b[0m\u001b[0;34m)\u001b[0m\u001b[0;34m\u001b[0m\u001b[0;34m\u001b[0m\u001b[0m\n\u001b[1;32m      2\u001b[0m \u001b[0mtemp_\u001b[0m \u001b[0;34m=\u001b[0m \u001b[0mpd\u001b[0m\u001b[0;34m.\u001b[0m\u001b[0mread_csv\u001b[0m\u001b[0;34m(\u001b[0m\u001b[0;34m'S4band_temp.csv'\u001b[0m\u001b[0;34m)\u001b[0m\u001b[0;34m\u001b[0m\u001b[0;34m\u001b[0m\u001b[0m\n\u001b[0;32m----> 3\u001b[0;31m \u001b[0mants\u001b[0m \u001b[0;34m=\u001b[0m \u001b[0;34m[\u001b[0m\u001b[0mrdb\u001b[0m\u001b[0;34m.\u001b[0m\u001b[0mants\u001b[0m\u001b[0;34m[\u001b[0m\u001b[0mi\u001b[0m\u001b[0;34m]\u001b[0m\u001b[0;34m.\u001b[0m\u001b[0mname\u001b[0m \u001b[0;32mfor\u001b[0m \u001b[0mi\u001b[0m \u001b[0;32min\u001b[0m \u001b[0mrange\u001b[0m\u001b[0;34m(\u001b[0m\u001b[0;36m58\u001b[0m\u001b[0;34m)\u001b[0m\u001b[0;34m]\u001b[0m\u001b[0;34m\u001b[0m\u001b[0;34m\u001b[0m\u001b[0m\n\u001b[0m\u001b[1;32m      4\u001b[0m \u001b[0;34m\u001b[0m\u001b[0m\n\u001b[1;32m      5\u001b[0m \u001b[0mants\u001b[0m\u001b[0;34m.\u001b[0m\u001b[0mremove\u001b[0m\u001b[0;34m(\u001b[0m\u001b[0;34m'm060'\u001b[0m\u001b[0;34m)\u001b[0m\u001b[0;34m\u001b[0m\u001b[0;34m\u001b[0m\u001b[0m\n",
      "\u001b[0;32m<ipython-input-16-7626f38c17a9>\u001b[0m in \u001b[0;36m<listcomp>\u001b[0;34m(.0)\u001b[0m\n\u001b[1;32m      1\u001b[0m \u001b[0mangle_\u001b[0m \u001b[0;34m=\u001b[0m \u001b[0mpd\u001b[0m\u001b[0;34m.\u001b[0m\u001b[0mread_csv\u001b[0m\u001b[0;34m(\u001b[0m\u001b[0;34m'S4band_angle.csv'\u001b[0m\u001b[0;34m)\u001b[0m\u001b[0;34m\u001b[0m\u001b[0;34m\u001b[0m\u001b[0m\n\u001b[1;32m      2\u001b[0m \u001b[0mtemp_\u001b[0m \u001b[0;34m=\u001b[0m \u001b[0mpd\u001b[0m\u001b[0;34m.\u001b[0m\u001b[0mread_csv\u001b[0m\u001b[0;34m(\u001b[0m\u001b[0;34m'S4band_temp.csv'\u001b[0m\u001b[0;34m)\u001b[0m\u001b[0;34m\u001b[0m\u001b[0;34m\u001b[0m\u001b[0m\n\u001b[0;32m----> 3\u001b[0;31m \u001b[0mants\u001b[0m \u001b[0;34m=\u001b[0m \u001b[0;34m[\u001b[0m\u001b[0mrdb\u001b[0m\u001b[0;34m.\u001b[0m\u001b[0mants\u001b[0m\u001b[0;34m[\u001b[0m\u001b[0mi\u001b[0m\u001b[0;34m]\u001b[0m\u001b[0;34m.\u001b[0m\u001b[0mname\u001b[0m \u001b[0;32mfor\u001b[0m \u001b[0mi\u001b[0m \u001b[0;32min\u001b[0m \u001b[0mrange\u001b[0m\u001b[0;34m(\u001b[0m\u001b[0;36m58\u001b[0m\u001b[0;34m)\u001b[0m\u001b[0;34m]\u001b[0m\u001b[0;34m\u001b[0m\u001b[0;34m\u001b[0m\u001b[0m\n\u001b[0m\u001b[1;32m      4\u001b[0m \u001b[0;34m\u001b[0m\u001b[0m\n\u001b[1;32m      5\u001b[0m \u001b[0mants\u001b[0m\u001b[0;34m.\u001b[0m\u001b[0mremove\u001b[0m\u001b[0;34m(\u001b[0m\u001b[0;34m'm060'\u001b[0m\u001b[0;34m)\u001b[0m\u001b[0;34m\u001b[0m\u001b[0;34m\u001b[0m\u001b[0m\n",
      "\u001b[0;31mNameError\u001b[0m: name 'rdb' is not defined"
     ]
    }
   ],
   "source": [
    "angle_ = pd.read_csv('S4band_angle.csv')\n",
    "temp_ = pd.read_csv('S4band_temp.csv')\n",
    "ants = [rdb.ants[i].name for i in range(58)]\n",
    "\n",
    "ants.remove('m060')\n",
    "ants.remove('m002')\n",
    "ants.remove('m004')\n",
    "ants.remove('m007')\n",
    "ants.remove('m013')\n",
    "ants.remove('m020')\n",
    "ants.remove('m024')\n",
    "ants.remove('m026')\n",
    "ants.remove('m041')\n",
    "ants.remove('m050')\n",
    "ants.remove('m056')\n",
    "ants.remove('m058')\n",
    "\n",
    "for index, ant in enumerate(ants):\n",
    "    if temp_[ant].max() > 400:\n",
    "        rm.append(ant)\n",
    "        temp_.pop(ant)\n",
    "    \n",
    "    plot(angle_[ant], temp_[ant], \"*c\", alpha=0.05)\n",
    "    \n",
    "show()"
   ]
  },
  {
   "cell_type": "code",
   "execution_count": 17,
   "metadata": {},
   "outputs": [],
   "source": [
    "def modelTcal(noisefile):\n",
    "    ##Read data from file\n",
    "    fin = open(noisefile, 'r')\n",
    "    # Read and ignore header line\n",
    "    fin.readline()\n",
    "    fin.readline()\n",
    "    # Read model data [freq Hz, Te K]\n",
    "    nd_freqs = []\n",
    "    nd_temps = []\n",
    "    for line in fin.readlines():\n",
    "        try:\n",
    "            noisemodel= numpy.array(line.strip().split(','), dtype=float)\n",
    "        except: print(line.strip())\n",
    "        nd_freqs.append(noisemodel[0])\n",
    "        nd_temps.append(noisemodel[1])\n",
    "    fin.close()\n",
    "    nd_freqs = numpy.array(nd_freqs)\n",
    "    nd_temps = numpy.array(nd_temps)\n",
    "    return [nd_freqs, nd_temps]\n",
    "\n",
    "    [nd_freqs, nd_temps] = modelTcal(os.path.join(nd_models,nd_file))\n",
    "    Tsys = numpy.mean(nd_temps)"
   ]
  },
  {
   "cell_type": "code",
   "execution_count": 18,
   "metadata": {},
   "outputs": [
    {
     "ename": "NameError",
     "evalue": "name 'nd_v' is not defined",
     "output_type": "error",
     "traceback": [
      "\u001b[0;31m---------------------------------------------------------------------------\u001b[0m",
      "\u001b[0;31mNameError\u001b[0m                                 Traceback (most recent call last)",
      "\u001b[0;32m<ipython-input-18-175df5cec252>\u001b[0m in \u001b[0;36m<module>\u001b[0;34m\u001b[0m\n\u001b[0;32m----> 1\u001b[0;31m \u001b[0;34m[\u001b[0m\u001b[0mnd_freqs\u001b[0m\u001b[0;34m,\u001b[0m \u001b[0mnd_temps\u001b[0m\u001b[0;34m]\u001b[0m \u001b[0;34m=\u001b[0m \u001b[0mmodelTcal\u001b[0m\u001b[0;34m(\u001b[0m\u001b[0mnd_v\u001b[0m\u001b[0;34m)\u001b[0m\u001b[0;34m\u001b[0m\u001b[0;34m\u001b[0m\u001b[0m\n\u001b[0m",
      "\u001b[0;31mNameError\u001b[0m: name 'nd_v' is not defined"
     ]
    }
   ],
   "source": [
    "[nd_freqs, nd_temps] = modelTcal(nd_v)"
   ]
  },
  {
   "cell_type": "code",
   "execution_count": 19,
   "metadata": {},
   "outputs": [
    {
     "ename": "NameError",
     "evalue": "name 'rdb' is not defined",
     "output_type": "error",
     "traceback": [
      "\u001b[0;31m---------------------------------------------------------------------------\u001b[0m",
      "\u001b[0;31mNameError\u001b[0m                                 Traceback (most recent call last)",
      "\u001b[0;32m<ipython-input-19-cad7782c374d>\u001b[0m in \u001b[0;36m<module>\u001b[0;34m\u001b[0m\n\u001b[0;32m----> 1\u001b[0;31m \u001b[0mr\u001b[0m \u001b[0;34m=\u001b[0m \u001b[0mrdb\u001b[0m\u001b[0;34m.\u001b[0m\u001b[0mselect\u001b[0m\u001b[0;34m(\u001b[0m\u001b[0mants\u001b[0m\u001b[0;34m=\u001b[0m\u001b[0mant\u001b[0m\u001b[0;34m.\u001b[0m\u001b[0mname\u001b[0m\u001b[0;34m,\u001b[0m\u001b[0mcorrprods\u001b[0m\u001b[0;34m=\u001b[0m\u001b[0;34m'auto'\u001b[0m\u001b[0;34m,\u001b[0m\u001b[0mscans\u001b[0m\u001b[0;34m=\u001b[0m\u001b[0;34m'scan'\u001b[0m\u001b[0;34m)\u001b[0m\u001b[0;34m\u001b[0m\u001b[0;34m\u001b[0m\u001b[0m\n\u001b[0m\u001b[1;32m      2\u001b[0m \u001b[0mprint\u001b[0m\u001b[0;34m(\u001b[0m\u001b[0mr\u001b[0m\u001b[0;34m)\u001b[0m\u001b[0;34m\u001b[0m\u001b[0;34m\u001b[0m\u001b[0m\n\u001b[1;32m      3\u001b[0m \u001b[0;34m\u001b[0m\u001b[0m\n\u001b[1;32m      4\u001b[0m \u001b[0mscan_indices\u001b[0m \u001b[0;34m=\u001b[0m \u001b[0mrdb\u001b[0m\u001b[0;34m.\u001b[0m\u001b[0mscan_indices\u001b[0m\u001b[0;34m\u001b[0m\u001b[0;34m\u001b[0m\u001b[0m\n\u001b[1;32m      5\u001b[0m \u001b[0;34m\u001b[0m\u001b[0m\n",
      "\u001b[0;31mNameError\u001b[0m: name 'rdb' is not defined"
     ]
    }
   ],
   "source": [
    "r = rdb.select(ants=ant.name,corrprods='auto',scans='scan')\n",
    "print(r)\n",
    "\n",
    "scan_indices = rdb.scan_indices\n",
    "\n",
    "print(scan_indices)"
   ]
  },
  {
   "cell_type": "code",
   "execution_count": null,
   "metadata": {},
   "outputs": [],
   "source": [
    "rdb.select()\n",
    "target = rdb.catalogue.targets[0].name\n",
    "passband = rdb.channel_freqs\n",
    "ants = rdb.ants\n",
    "# Boltzman constant\n",
    "k = 1.38e-23\n",
    "\n",
    "for ant_idx in range(len(ants)):\n",
    "    ant = ants[ant_idx]\n",
    "    print('Observation data for antenna %s' % ant.name)\n",
    "    \n",
    "    # approximate Tsys using Tant values from model files\n",
    "    nd_file=nd_h\n",
    "    [nd_freqs, nd_temps] = modelTcal(noisefile)\n",
    "    Tsys = numpy.mean(nd_temps)\n",
    "\n",
    "    \n",
    "    Ssys = 10.*numpy.log10(k*Tsys) + 30 # dBm/Hz\n",
    "    print(\"Expected power spectral density of the system noise floor %.2d [dBm/Hz]\" % Ssys)\n",
    "    \n",
    "    rdb.select()\n",
    "    rdb.select(ants=ant.name,corrprods='auto',scans='scan')\n",
    "    scan_indices = rdb.scan_indices\n",
    "    \n",
    "    for idx in range(len(scan_indices)):\n",
    "        rdb.select(scans=scan_indices[idx])\n",
    "        d = scape.DataSet(rdb, baseline=\"%s\" % (ant.name,))\n",
    "        if not d is None:\n",
    "            d = d.select(flagkeep='~nd_on')\n",
    "        data = d.scans[0].data[:,:,0]\n",
    "\n",
    "        # power calibration scale factor\n",
    "        buff_chan = len(passband)/10\n",
    "        bp_floor =  (10*numpy.log10(numpy.median(numpy.abs(data), axis=0)))[int(buff_chan):-int(buff_chan)].mean()\n",
    "        delta_P = bp_floor - Ssys\n",
    "        \n",
    "        plt.figure(2*ant_idx,figsize = (15,5))\n",
    "        plt.plot(passband/1e6, 10*numpy.log10(numpy.median(numpy.abs(data), axis=0))-delta_P, label='Scan %d'%idx)       \n",
    "        plt.axis('tight')\n",
    "        plt.xlabel('Feq [MHz]')\n",
    "        plt.ylabel('Power [dBm/ch]')\n",
    "        plt.title('Observation Spectrum %s'%ant.name)\n",
    "        plt.legend(loc=0)\n",
    "        plt.figure(2*ant_idx+1,figsize = (15,5))\n",
    "        plt.subplot(1,3,idx+1)\n",
    "        plt.plot(10*numpy.log10(numpy.median(numpy.abs(data), axis=1)))\n",
    "        plt.axis('tight')\n",
    "        plt.xlabel('Scans [#]')\n",
    "        plt.ylabel('Power [arb dBm]')\n",
    "        plt.title('Observation Scans %d'%idx)\n",
    "        plt.subplots_adjust(wspace=None, hspace=None)"
   ]
  },
  {
   "cell_type": "code",
   "execution_count": 20,
   "metadata": {},
   "outputs": [
    {
     "ename": "NameError",
     "evalue": "name 'rdb' is not defined",
     "output_type": "error",
     "traceback": [
      "\u001b[0;31m---------------------------------------------------------------------------\u001b[0m",
      "\u001b[0;31mNameError\u001b[0m                                 Traceback (most recent call last)",
      "\u001b[0;32m<ipython-input-20-34d5048984ba>\u001b[0m in \u001b[0;36m<module>\u001b[0;34m\u001b[0m\n\u001b[0;32m----> 1\u001b[0;31m \u001b[0mpassband\u001b[0m \u001b[0;34m=\u001b[0m \u001b[0mrdb\u001b[0m\u001b[0;34m.\u001b[0m\u001b[0mchannel_freqs\u001b[0m\u001b[0;34m\u001b[0m\u001b[0;34m\u001b[0m\u001b[0m\n\u001b[0m\u001b[1;32m      2\u001b[0m \u001b[0mbuff_chan\u001b[0m \u001b[0;34m=\u001b[0m \u001b[0mlen\u001b[0m\u001b[0;34m(\u001b[0m\u001b[0mpassband\u001b[0m\u001b[0;34m)\u001b[0m\u001b[0;34m/\u001b[0m\u001b[0;36m10\u001b[0m\u001b[0;34m\u001b[0m\u001b[0;34m\u001b[0m\u001b[0m\n\u001b[1;32m      3\u001b[0m \u001b[0mprint\u001b[0m\u001b[0;34m(\u001b[0m\u001b[0mint\u001b[0m\u001b[0;34m(\u001b[0m\u001b[0mbuff_chan\u001b[0m\u001b[0;34m)\u001b[0m\u001b[0;34m)\u001b[0m\u001b[0;34m\u001b[0m\u001b[0;34m\u001b[0m\u001b[0m\n",
      "\u001b[0;31mNameError\u001b[0m: name 'rdb' is not defined"
     ]
    }
   ],
   "source": [
    "passband = rdb.channel_freqs\n",
    "buff_chan = len(passband)/10\n",
    "print(int(buff_chan))"
   ]
  },
  {
   "cell_type": "code",
   "execution_count": null,
   "metadata": {},
   "outputs": [],
   "source": [
    "dataset = scape.DataSet(rdb, baseline=\"%s\" % (ant.name,), nd_h_model=nd_h, nd_v_model=nd_v)\n",
    "d = dataset.convert_power_to_temperature(freq_width=0.0)\n",
    "\n",
    "dat = d.select(flagkeep='~nd_on')\n",
    "dat.average(channels_per_band=None)\n",
    "\n",
    "data = dat.scans[0].data[:,:,0]\n",
    "\n",
    "print(data)\n",
    "\n",
    "\n",
    "plt.plot(data)\n",
    "plt.show()\n",
    "\n",
    "\n"
   ]
  },
  {
   "cell_type": "code",
   "execution_count": null,
   "metadata": {},
   "outputs": [],
   "source": [
    "dataset.scans[0].data?"
   ]
  },
  {
   "cell_type": "code",
   "execution_count": 142,
   "metadata": {},
   "outputs": [
    {
     "ename": "AxisError",
     "evalue": "axis 0 is out of bounds for array of dimension 0",
     "output_type": "error",
     "traceback": [
      "\u001b[0;31m---------------------------------------------------------------------------\u001b[0m",
      "\u001b[0;31mAxisError\u001b[0m                                 Traceback (most recent call last)",
      "\u001b[0;32m<ipython-input-142-e15c22380ddd>\u001b[0m in \u001b[0;36m<module>\u001b[0;34m\u001b[0m\n\u001b[0;32m----> 1\u001b[0;31m \u001b[0mplt\u001b[0m\u001b[0;34m.\u001b[0m\u001b[0mplot\u001b[0m\u001b[0;34m(\u001b[0m\u001b[0mnp\u001b[0m\u001b[0;34m.\u001b[0m\u001b[0maverage\u001b[0m\u001b[0;34m(\u001b[0m\u001b[0mdataset\u001b[0m\u001b[0;34m.\u001b[0m\u001b[0mscans\u001b[0m\u001b[0;34m[\u001b[0m\u001b[0;36m0\u001b[0m\u001b[0;34m]\u001b[0m\u001b[0;34m,\u001b[0m \u001b[0maxis\u001b[0m\u001b[0;34m=\u001b[0m\u001b[0;34m(\u001b[0m\u001b[0;36m0\u001b[0m\u001b[0;34m,\u001b[0m\u001b[0;36m2\u001b[0m\u001b[0;34m)\u001b[0m\u001b[0;34m)\u001b[0m\u001b[0;34m)\u001b[0m\u001b[0;34m\u001b[0m\u001b[0;34m\u001b[0m\u001b[0m\n\u001b[0m\u001b[1;32m      2\u001b[0m \u001b[0mplt\u001b[0m\u001b[0;34m.\u001b[0m\u001b[0mshow\u001b[0m\u001b[0;34m(\u001b[0m\u001b[0;34m)\u001b[0m\u001b[0;34m\u001b[0m\u001b[0;34m\u001b[0m\u001b[0m\n",
      "\u001b[0;32m<__array_function__ internals>\u001b[0m in \u001b[0;36maverage\u001b[0;34m(*args, **kwargs)\u001b[0m\n",
      "\u001b[0;32m/scratch2/lkara/venv-py3/lib/python3.6/site-packages/numpy/lib/function_base.py\u001b[0m in \u001b[0;36maverage\u001b[0;34m(a, axis, weights, returned)\u001b[0m\n\u001b[1;32m    378\u001b[0m \u001b[0;34m\u001b[0m\u001b[0m\n\u001b[1;32m    379\u001b[0m     \u001b[0;32mif\u001b[0m \u001b[0mweights\u001b[0m \u001b[0;32mis\u001b[0m \u001b[0;32mNone\u001b[0m\u001b[0;34m:\u001b[0m\u001b[0;34m\u001b[0m\u001b[0;34m\u001b[0m\u001b[0m\n\u001b[0;32m--> 380\u001b[0;31m         \u001b[0mavg\u001b[0m \u001b[0;34m=\u001b[0m \u001b[0ma\u001b[0m\u001b[0;34m.\u001b[0m\u001b[0mmean\u001b[0m\u001b[0;34m(\u001b[0m\u001b[0maxis\u001b[0m\u001b[0;34m)\u001b[0m\u001b[0;34m\u001b[0m\u001b[0;34m\u001b[0m\u001b[0m\n\u001b[0m\u001b[1;32m    381\u001b[0m         \u001b[0mscl\u001b[0m \u001b[0;34m=\u001b[0m \u001b[0mavg\u001b[0m\u001b[0;34m.\u001b[0m\u001b[0mdtype\u001b[0m\u001b[0;34m.\u001b[0m\u001b[0mtype\u001b[0m\u001b[0;34m(\u001b[0m\u001b[0ma\u001b[0m\u001b[0;34m.\u001b[0m\u001b[0msize\u001b[0m\u001b[0;34m/\u001b[0m\u001b[0mavg\u001b[0m\u001b[0;34m.\u001b[0m\u001b[0msize\u001b[0m\u001b[0;34m)\u001b[0m\u001b[0;34m\u001b[0m\u001b[0;34m\u001b[0m\u001b[0m\n\u001b[1;32m    382\u001b[0m     \u001b[0;32melse\u001b[0m\u001b[0;34m:\u001b[0m\u001b[0;34m\u001b[0m\u001b[0;34m\u001b[0m\u001b[0m\n",
      "\u001b[0;32m/scratch2/lkara/venv-py3/lib/python3.6/site-packages/numpy/core/_methods.py\u001b[0m in \u001b[0;36m_mean\u001b[0;34m(a, axis, dtype, out, keepdims)\u001b[0m\n\u001b[1;32m    145\u001b[0m \u001b[0;34m\u001b[0m\u001b[0m\n\u001b[1;32m    146\u001b[0m     \u001b[0mis_float16_result\u001b[0m \u001b[0;34m=\u001b[0m \u001b[0;32mFalse\u001b[0m\u001b[0;34m\u001b[0m\u001b[0;34m\u001b[0m\u001b[0m\n\u001b[0;32m--> 147\u001b[0;31m     \u001b[0mrcount\u001b[0m \u001b[0;34m=\u001b[0m \u001b[0m_count_reduce_items\u001b[0m\u001b[0;34m(\u001b[0m\u001b[0marr\u001b[0m\u001b[0;34m,\u001b[0m \u001b[0maxis\u001b[0m\u001b[0;34m)\u001b[0m\u001b[0;34m\u001b[0m\u001b[0;34m\u001b[0m\u001b[0m\n\u001b[0m\u001b[1;32m    148\u001b[0m     \u001b[0;31m# Make this warning show up first\u001b[0m\u001b[0;34m\u001b[0m\u001b[0;34m\u001b[0m\u001b[0;34m\u001b[0m\u001b[0m\n\u001b[1;32m    149\u001b[0m     \u001b[0;32mif\u001b[0m \u001b[0mrcount\u001b[0m \u001b[0;34m==\u001b[0m \u001b[0;36m0\u001b[0m\u001b[0;34m:\u001b[0m\u001b[0;34m\u001b[0m\u001b[0;34m\u001b[0m\u001b[0m\n",
      "\u001b[0;32m/scratch2/lkara/venv-py3/lib/python3.6/site-packages/numpy/core/_methods.py\u001b[0m in \u001b[0;36m_count_reduce_items\u001b[0;34m(arr, axis)\u001b[0m\n\u001b[1;32m     64\u001b[0m     \u001b[0mitems\u001b[0m \u001b[0;34m=\u001b[0m \u001b[0;36m1\u001b[0m\u001b[0;34m\u001b[0m\u001b[0;34m\u001b[0m\u001b[0m\n\u001b[1;32m     65\u001b[0m     \u001b[0;32mfor\u001b[0m \u001b[0max\u001b[0m \u001b[0;32min\u001b[0m \u001b[0maxis\u001b[0m\u001b[0;34m:\u001b[0m\u001b[0;34m\u001b[0m\u001b[0;34m\u001b[0m\u001b[0m\n\u001b[0;32m---> 66\u001b[0;31m         \u001b[0mitems\u001b[0m \u001b[0;34m*=\u001b[0m \u001b[0marr\u001b[0m\u001b[0;34m.\u001b[0m\u001b[0mshape\u001b[0m\u001b[0;34m[\u001b[0m\u001b[0mmu\u001b[0m\u001b[0;34m.\u001b[0m\u001b[0mnormalize_axis_index\u001b[0m\u001b[0;34m(\u001b[0m\u001b[0max\u001b[0m\u001b[0;34m,\u001b[0m \u001b[0marr\u001b[0m\u001b[0;34m.\u001b[0m\u001b[0mndim\u001b[0m\u001b[0;34m)\u001b[0m\u001b[0;34m]\u001b[0m\u001b[0;34m\u001b[0m\u001b[0;34m\u001b[0m\u001b[0m\n\u001b[0m\u001b[1;32m     67\u001b[0m     \u001b[0;32mreturn\u001b[0m \u001b[0mitems\u001b[0m\u001b[0;34m\u001b[0m\u001b[0;34m\u001b[0m\u001b[0m\n\u001b[1;32m     68\u001b[0m \u001b[0;34m\u001b[0m\u001b[0m\n",
      "\u001b[0;31mAxisError\u001b[0m: axis 0 is out of bounds for array of dimension 0"
     ]
    }
   ],
   "source": [
    "plt.plot(np.average(dataset.scans[0], axis=(0,2)))\n",
    "plt.show()"
   ]
  },
  {
   "cell_type": "code",
   "execution_count": 19,
   "metadata": {},
   "outputs": [],
   "source": [
    "import warnings\n",
    "\n",
    "def load_cal(filename, hnd, vnd):\n",
    "    \"\"\" Load the dataset into memory \"\"\"\n",
    "    print('Loading noise diode models')\n",
    "\n",
    "    try:\n",
    "        d = scape.DataSet(filename, nd_models=hnd)\n",
    "    except IOError:\n",
    "        nd = scape.gaincal.NoiseDiodeModel(freq=[1,20000],temp=[20,20])\n",
    "        warnings.warn('Warning: Failed to load/find Noise Diode Models, setting models to 20K ')\n",
    "        print('Warning: Failed to load/find Noise Diode Models, setting models to 20K ')\n",
    "        d = scape.DataSet(filename,  nd_h_model = hnd, nd_v_model = vnd)\n",
    "\n",
    "\n",
    "#     if not channel_range is None :\n",
    "#         start_freq_channel = int(channel_range.split(',')[0])\n",
    "#         end_freq_channel = int(channel_range.split(',')[1])\n",
    "#         edge = np.tile(True, n_chan)\n",
    "#         edge[slice(start_freq_channel, end_freq_channel)] = False\n",
    "#     else :\n",
    "#         edge = np.tile(False, n_chan)\n",
    "#     #load static flags if pickle file is given\n",
    "#     if len(channel_mask)>0:\n",
    "#         pickle_file = open(channel_mask,mode='rb')\n",
    "#         rfi_static_flags = pickle.load(pickle_file)\n",
    "#         pickle_file.close()\n",
    "#     else:\n",
    "#         rfi_static_flags = np.tile(False, n_chan)\n",
    "\n",
    "#     static_flags = np.logical_or(edge,rfi_static_flags)\n",
    "    \n",
    "#     #d = d.select(freqkeep=~static_flags)\n",
    "#     freq_channel_flagged = []\n",
    "#     for band in freq_channel:\n",
    "#         tmp_band = []\n",
    "#         for channel in band :\n",
    "#             if not static_flags[channel] : # if not flagged\n",
    "#                 tmp_band.append(channel)\n",
    "#         #if len(tmp_band) > 0 :\n",
    "#         freq_channel_flagged.append(tmp_band)\n",
    "\n",
    "    #if not freq_channel is None :\n",
    "    #    d = d.select(freqkeep=freq_channel)\n",
    "    #print \"Flagging RFI\"\n",
    "    #sd = remove_rfi(d,width=7,sigma=5)  # rfi flaging Needed ?\n",
    "    print(\"Converting to Temperature\")\n",
    "    print(\"Plotting the number of channels in each band of the list of lists freq_channel_flagged will be useful\")\n",
    "    d = d.convert_power_to_temperature(freq_width=0.0)\n",
    "    if not d is None:\n",
    "        d = d.select(flagkeep='~nd_on')\n",
    "        #d = d.select(labelkeep='track', copy=False)\n",
    "        d.average(channels_per_band=None)\n",
    "    return d"
   ]
  },
  {
   "cell_type": "code",
   "execution_count": null,
   "metadata": {},
   "outputs": [],
   "source": []
  },
  {
   "cell_type": "code",
   "execution_count": 20,
   "metadata": {},
   "outputs": [
    {
     "name": "stdout",
     "output_type": "stream",
     "text": [
      "Loading noise diode models\n",
      "INFO: Loading single-dish baseline 'm047,m047'\n",
      "INFO: Defaulting to 'coupler' noise diode (either no or both diodes are firing)\n",
      "Warning: Failed to load/find Noise Diode Models, setting models to 20K \n",
      "INFO: Loading single-dish baseline 'm047,m047'\n",
      "INFO: Defaulting to 'coupler' noise diode (either no or both diodes are firing)\n",
      "WARNING: Cannot find coupler noise diode H polarisation model for antenna m047 - using default.\n",
      "WARNING: Cannot find coupler noise diode V polarisation model for antenna m047 - using default.\n",
      "DEBUG: Resetting dropped connection: archive-gw-1.kat.ac.za\n",
      "DEBUG: Resetting dropped connection: archive-gw-1.kat.ac.za\n",
      "DEBUG: Resetting dropped connection: archive-gw-1.kat.ac.za\n",
      "DEBUG: Resetting dropped connection: archive-gw-1.kat.ac.za\n",
      "DEBUG: Resetting dropped connection: archive-gw-1.kat.ac.za\n",
      "DEBUG: Resetting dropped connection: archive-gw-1.kat.ac.za\n",
      "DEBUG: Resetting dropped connection: archive-gw-1.kat.ac.za\n",
      "DEBUG: Resetting dropped connection: archive-gw-1.kat.ac.za\n",
      "DEBUG: Resetting dropped connection: archive-gw-1.kat.ac.za\n",
      "DEBUG: Resetting dropped connection: archive-gw-1.kat.ac.za\n",
      "DEBUG: Resetting dropped connection: archive-gw-1.kat.ac.za\n",
      "DEBUG: Resetting dropped connection: archive-gw-1.kat.ac.za\n",
      "DEBUG: http://archive-gw-1.kat.ac.za:7480 \"GET /1657099540-sdp-l0/correlator_data/00000_00000_00000.npy HTTP/1.1\" 200 262272\n",
      "DEBUG: http://archive-gw-1.kat.ac.za:7480 \"GET /1657099540-sdp-l0/correlator_data/00000_00512_00000.npy HTTP/1.1\" 200 262272\n",
      "DEBUG: http://archive-gw-1.kat.ac.za:7480 \"GET /1657099540-sdp-l0/correlator_data/00000_00768_00000.npy HTTP/1.1\" 200 262272\n",
      "DEBUG: http://archive-gw-1.kat.ac.za:7480 \"GET /1657099540-sdp-l0/correlator_data/00032_00512_00000.npy HTTP/1.1\" 200 262272\n",
      "DEBUG: http://archive-gw-1.kat.ac.za:7480 \"GET /1657099540-sdp-l0/correlator_data/00064_00000_00000.npy HTTP/1.1\" 200 131200\n",
      "DEBUG: http://archive-gw-1.kat.ac.za:7480 \"GET /1657099540-sdp-l0/correlator_data/00000_00256_00000.npy HTTP/1.1\" 200 262272\n",
      "DEBUG: http://archive-gw-1.kat.ac.za:7480 \"GET /1657099540-sdp-l0/correlator_data/00032_00256_00000.npy HTTP/1.1\" 200 262272\n",
      "DEBUG: http://archive-gw-1.kat.ac.za:7480 \"GET /1657099540-sdp-l0/correlator_data/00064_00256_00000.npy HTTP/1.1\" 200 131200\n",
      "DEBUG: http://archive-gw-1.kat.ac.za:7480 \"GET /1657099540-sdp-l0/correlator_data/00064_00512_00000.npy HTTP/1.1\" 200 131200\n",
      "DEBUG: http://archive-gw-1.kat.ac.za:7480 \"GET /1657099540-sdp-l0/correlator_data/00032_00000_00000.npy HTTP/1.1\" 200 262272\n",
      "DEBUG: http://archive-gw-1.kat.ac.za:7480 \"GET /1657099540-sdp-l0/correlator_data/00032_00768_00000.npy HTTP/1.1\" 200 262272\n",
      "DEBUG: http://archive-gw-1.kat.ac.za:7480 \"GET /1657099540-sdp-l0/correlator_data/00064_00768_00000.npy HTTP/1.1\" 200 131200\n",
      "DEBUG: http://archive-gw-1.kat.ac.za:7480 \"GET /1657099540-sdp-l0/correlator_data/00032_00512_00000.npy HTTP/1.1\" 200 262272\n",
      "DEBUG: http://archive-gw-1.kat.ac.za:7480 \"GET /1657099540-sdp-l0/correlator_data/00000_00512_00000.npy HTTP/1.1\" 200 262272\n",
      "DEBUG: http://archive-gw-1.kat.ac.za:7480 \"GET /1657099540-sdp-l0/correlator_data/00032_00768_00000.npy HTTP/1.1\" 200 262272\n",
      "DEBUG: http://archive-gw-1.kat.ac.za:7480 \"GET /1657099540-sdp-l0/correlator_data/00000_00768_00000.npy HTTP/1.1\" 200 262272\n",
      "DEBUG: http://archive-gw-1.kat.ac.za:7480 \"GET /1657099540-sdp-l0/correlator_data/00064_00000_00000.npy HTTP/1.1\" 200 131200\n",
      "DEBUG: http://archive-gw-1.kat.ac.za:7480 \"GET /1657099540-sdp-l0/correlator_data/00032_00256_00000.npy HTTP/1.1\" 200 262272\n",
      "DEBUG: http://archive-gw-1.kat.ac.za:7480 \"GET /1657099540-sdp-l0/correlator_data/00000_00000_00000.npy HTTP/1.1\" 200 262272\n",
      "DEBUG: http://archive-gw-1.kat.ac.za:7480 \"GET /1657099540-sdp-l0/correlator_data/00064_00256_00000.npy HTTP/1.1\" 200 131200\n",
      "DEBUG: http://archive-gw-1.kat.ac.za:7480 \"GET /1657099540-sdp-l0/correlator_data/00064_00768_00000.npy HTTP/1.1\" 200 131200\n",
      "DEBUG: http://archive-gw-1.kat.ac.za:7480 \"GET /1657099540-sdp-l0/correlator_data/00064_00512_00000.npy HTTP/1.1\" 200 131200\n",
      "DEBUG: http://archive-gw-1.kat.ac.za:7480 \"GET /1657099540-sdp-l0/correlator_data/00032_00000_00000.npy HTTP/1.1\" 200 262272\n",
      "DEBUG: http://archive-gw-1.kat.ac.za:7480 \"GET /1657099540-sdp-l0/correlator_data/00000_00256_00000.npy HTTP/1.1\" 200 262272\n"
     ]
    },
    {
     "name": "stderr",
     "output_type": "stream",
     "text": [
      "/scratch2/lkara/venv-py3/lib/python3.6/site-packages/ipykernel_launcher.py:11: UserWarning: Warning: Failed to load/find Noise Diode Models, setting models to 20K \n",
      "  # This is added back by InteractiveShellApp.init_path()\n"
     ]
    },
    {
     "name": "stdout",
     "output_type": "stream",
     "text": [
      "DEBUG: http://archive-gw-1.kat.ac.za:7480 \"GET /1657099540-sdp-l0/correlator_data/00032_00000_00000.npy HTTP/1.1\" 200 262272\n",
      "DEBUG: http://archive-gw-1.kat.ac.za:7480 \"GET /1657099540-sdp-l0/correlator_data/00000_00000_00000.npy HTTP/1.1\" 200 262272\n",
      "DEBUG: http://archive-gw-1.kat.ac.za:7480 \"GET /1657099540-sdp-l0/correlator_data/00000_00256_00000.npy HTTP/1.1\" 200 262272\n",
      "DEBUG: http://archive-gw-1.kat.ac.za:7480 \"GET /1657099540-sdp-l0/correlator_data/00000_00512_00000.npy HTTP/1.1\" 200 262272\n",
      "DEBUG: http://archive-gw-1.kat.ac.za:7480 \"GET /1657099540-sdp-l0/correlator_data/00032_00768_00000.npy HTTP/1.1\" 200 262272\n",
      "DEBUG: http://archive-gw-1.kat.ac.za:7480 \"GET /1657099540-sdp-l0/correlator_data/00064_00000_00000.npy HTTP/1.1\" 200 131200\n",
      "DEBUG: http://archive-gw-1.kat.ac.za:7480 \"GET /1657099540-sdp-l0/correlator_data/00032_00512_00000.npy HTTP/1.1\" 200 262272\n",
      "DEBUG: http://archive-gw-1.kat.ac.za:7480 \"GET /1657099540-sdp-l0/correlator_data/00032_00256_00000.npy HTTP/1.1\" 200 262272\n",
      "DEBUG: http://archive-gw-1.kat.ac.za:7480 \"GET /1657099540-sdp-l0/correlator_data/00000_00768_00000.npy HTTP/1.1\" 200 262272\n",
      "DEBUG: http://archive-gw-1.kat.ac.za:7480 \"GET /1657099540-sdp-l0/correlator_data/00064_00512_00000.npy HTTP/1.1\" 200 131200\n",
      "DEBUG: http://archive-gw-1.kat.ac.za:7480 \"GET /1657099540-sdp-l0/correlator_data/00064_00256_00000.npy HTTP/1.1\" 200 131200\n",
      "DEBUG: http://archive-gw-1.kat.ac.za:7480 \"GET /1657099540-sdp-l0/correlator_data/00064_00768_00000.npy HTTP/1.1\" 200 131200\n",
      "DEBUG: http://archive-gw-1.kat.ac.za:7480 \"GET /1657099540-sdp-l0/correlator_data/00000_00000_00000.npy HTTP/1.1\" 200 262272\n",
      "DEBUG: http://archive-gw-1.kat.ac.za:7480 \"GET /1657099540-sdp-l0/correlator_data/00000_00768_00000.npy HTTP/1.1\" 200 262272\n",
      "DEBUG: http://archive-gw-1.kat.ac.za:7480 \"GET /1657099540-sdp-l0/correlator_data/00032_00512_00000.npy HTTP/1.1\" 200 262272\n",
      "DEBUG: http://archive-gw-1.kat.ac.za:7480 \"GET /1657099540-sdp-l0/correlator_data/00032_00000_00000.npy HTTP/1.1\" 200 262272\n",
      "DEBUG: http://archive-gw-1.kat.ac.za:7480 \"GET /1657099540-sdp-l0/correlator_data/00032_00768_00000.npy HTTP/1.1\" 200 262272\n",
      "DEBUG: http://archive-gw-1.kat.ac.za:7480 \"GET /1657099540-sdp-l0/correlator_data/00000_00512_00000.npy HTTP/1.1\" 200 262272\n",
      "DEBUG: http://archive-gw-1.kat.ac.za:7480 \"GET /1657099540-sdp-l0/correlator_data/00000_00256_00000.npy HTTP/1.1\" 200 262272\n",
      "DEBUG: http://archive-gw-1.kat.ac.za:7480 \"GET /1657099540-sdp-l0/correlator_data/00032_00256_00000.npy HTTP/1.1\" 200 262272\n",
      "DEBUG: http://archive-gw-1.kat.ac.za:7480 \"GET /1657099540-sdp-l0/correlator_data/00064_00000_00000.npy HTTP/1.1\" 200 131200\n",
      "DEBUG: http://archive-gw-1.kat.ac.za:7480 \"GET /1657099540-sdp-l0/correlator_data/00064_00256_00000.npy HTTP/1.1\" 200 131200\n",
      "DEBUG: http://archive-gw-1.kat.ac.za:7480 \"GET /1657099540-sdp-l0/correlator_data/00064_00512_00000.npy HTTP/1.1\" 200 131200\n",
      "DEBUG: http://archive-gw-1.kat.ac.za:7480 \"GET /1657099540-sdp-l0/correlator_data/00064_00768_00000.npy HTTP/1.1\" 200 131200\n",
      "Converting to Temperature\n",
      "Plotting the number of channels in each band of the list of lists freq_channel_flagged will be useful\n"
     ]
    },
    {
     "name": "stderr",
     "output_type": "stream",
     "text": [
      "/scratch2/lkara/venv-py3/lib/python3.6/site-packages/scape/gaincal.py:277: RuntimeWarning: invalid value encountered in true_divide\n",
      "  norm_jump = nd_delta_mu / nd_delta_sigma\n"
     ]
    },
    {
     "data": {
      "image/png": "[encoded data removed]",
      "text/plain": [
       "<Figure size 432x288 with 1 Axes>"
      ]
     },
     "metadata": {
      "needs_background": "light"
     },
     "output_type": "display_data"
    }
   ],
   "source": [
    "data_ = load_cal(rdb, nd_v, nd_h)\n",
    "\n",
    "data1 = data_.scans[0].data[:,:,0]\n",
    "\n",
    "\n",
    "plt.plot(data1)\n",
    "plt.show()"
   ]
  },
  {
   "cell_type": "code",
   "execution_count": null,
   "metadata": {},
   "outputs": [],
   "source": []
  }
 ],
 "metadata": {
  "kernelspec": {
   "display_name": "Python 3",
   "language": "python",
   "name": "python3"
  },
  "language_info": {
   "codemirror_mode": {
    "name": "ipython",
    "version": 3
   },
   "file_extension": ".py",
   "mimetype": "text/x-python",
   "name": "python",
   "nbconvert_exporter": "python",
   "pygments_lexer": "ipython3",
   "version": "3.6.9"
  }
 },
 "nbformat": 4,
 "nbformat_minor": 4
}
